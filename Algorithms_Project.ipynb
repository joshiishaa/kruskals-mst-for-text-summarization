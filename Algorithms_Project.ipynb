{
  "nbformat": 4,
  "nbformat_minor": 0,
  "metadata": {
    "colab": {
      "provenance": []
    },
    "kernelspec": {
      "name": "python3",
      "display_name": "Python 3"
    },
    "language_info": {
      "name": "python"
    },
    "widgets": {
      "application/vnd.jupyter.widget-state+json": {
        "79a03c0aa4e247168c2110a1ec0e331b": {
          "model_module": "@jupyter-widgets/controls",
          "model_name": "HBoxModel",
          "model_module_version": "1.5.0",
          "state": {
            "_dom_classes": [],
            "_model_module": "@jupyter-widgets/controls",
            "_model_module_version": "1.5.0",
            "_model_name": "HBoxModel",
            "_view_count": null,
            "_view_module": "@jupyter-widgets/controls",
            "_view_module_version": "1.5.0",
            "_view_name": "HBoxView",
            "box_style": "",
            "children": [
              "IPY_MODEL_e7e32524528b49d691f5ba33637ebd7e",
              "IPY_MODEL_c480fb06b55f4b81a46152cb81d7cf3a",
              "IPY_MODEL_ddab4797c79648e190899596568fc461"
            ],
            "layout": "IPY_MODEL_b796317ac0e7485c91f3a487ad815923"
          }
        },
        "e7e32524528b49d691f5ba33637ebd7e": {
          "model_module": "@jupyter-widgets/controls",
          "model_name": "HTMLModel",
          "model_module_version": "1.5.0",
          "state": {
            "_dom_classes": [],
            "_model_module": "@jupyter-widgets/controls",
            "_model_module_version": "1.5.0",
            "_model_name": "HTMLModel",
            "_view_count": null,
            "_view_module": "@jupyter-widgets/controls",
            "_view_module_version": "1.5.0",
            "_view_name": "HTMLView",
            "description": "",
            "description_tooltip": null,
            "layout": "IPY_MODEL_c2332fde730e459ba984d33e55547ebb",
            "placeholder": "​",
            "style": "IPY_MODEL_ece09c057f5d46d5a4d928956ff5e3e2",
            "value": "Downloading builder script: 100%"
          }
        },
        "c480fb06b55f4b81a46152cb81d7cf3a": {
          "model_module": "@jupyter-widgets/controls",
          "model_name": "FloatProgressModel",
          "model_module_version": "1.5.0",
          "state": {
            "_dom_classes": [],
            "_model_module": "@jupyter-widgets/controls",
            "_model_module_version": "1.5.0",
            "_model_name": "FloatProgressModel",
            "_view_count": null,
            "_view_module": "@jupyter-widgets/controls",
            "_view_module_version": "1.5.0",
            "_view_name": "ProgressView",
            "bar_style": "success",
            "description": "",
            "description_tooltip": null,
            "layout": "IPY_MODEL_9ec0c69a63a24113be824a1045b9ee28",
            "max": 6270,
            "min": 0,
            "orientation": "horizontal",
            "style": "IPY_MODEL_98f1c1e7f7474ad383b96b60a873bac6",
            "value": 6270
          }
        },
        "ddab4797c79648e190899596568fc461": {
          "model_module": "@jupyter-widgets/controls",
          "model_name": "HTMLModel",
          "model_module_version": "1.5.0",
          "state": {
            "_dom_classes": [],
            "_model_module": "@jupyter-widgets/controls",
            "_model_module_version": "1.5.0",
            "_model_name": "HTMLModel",
            "_view_count": null,
            "_view_module": "@jupyter-widgets/controls",
            "_view_module_version": "1.5.0",
            "_view_name": "HTMLView",
            "description": "",
            "description_tooltip": null,
            "layout": "IPY_MODEL_6881ad6cd3c04b3d8947d3bc58c2bd69",
            "placeholder": "​",
            "style": "IPY_MODEL_c6486d8c83d44c29beb0dec41906bb21",
            "value": " 6.27k/6.27k [00:00&lt;00:00, 66.5kB/s]"
          }
        },
        "b796317ac0e7485c91f3a487ad815923": {
          "model_module": "@jupyter-widgets/base",
          "model_name": "LayoutModel",
          "model_module_version": "1.2.0",
          "state": {
            "_model_module": "@jupyter-widgets/base",
            "_model_module_version": "1.2.0",
            "_model_name": "LayoutModel",
            "_view_count": null,
            "_view_module": "@jupyter-widgets/base",
            "_view_module_version": "1.2.0",
            "_view_name": "LayoutView",
            "align_content": null,
            "align_items": null,
            "align_self": null,
            "border": null,
            "bottom": null,
            "display": null,
            "flex": null,
            "flex_flow": null,
            "grid_area": null,
            "grid_auto_columns": null,
            "grid_auto_flow": null,
            "grid_auto_rows": null,
            "grid_column": null,
            "grid_gap": null,
            "grid_row": null,
            "grid_template_areas": null,
            "grid_template_columns": null,
            "grid_template_rows": null,
            "height": null,
            "justify_content": null,
            "justify_items": null,
            "left": null,
            "margin": null,
            "max_height": null,
            "max_width": null,
            "min_height": null,
            "min_width": null,
            "object_fit": null,
            "object_position": null,
            "order": null,
            "overflow": null,
            "overflow_x": null,
            "overflow_y": null,
            "padding": null,
            "right": null,
            "top": null,
            "visibility": null,
            "width": null
          }
        },
        "c2332fde730e459ba984d33e55547ebb": {
          "model_module": "@jupyter-widgets/base",
          "model_name": "LayoutModel",
          "model_module_version": "1.2.0",
          "state": {
            "_model_module": "@jupyter-widgets/base",
            "_model_module_version": "1.2.0",
            "_model_name": "LayoutModel",
            "_view_count": null,
            "_view_module": "@jupyter-widgets/base",
            "_view_module_version": "1.2.0",
            "_view_name": "LayoutView",
            "align_content": null,
            "align_items": null,
            "align_self": null,
            "border": null,
            "bottom": null,
            "display": null,
            "flex": null,
            "flex_flow": null,
            "grid_area": null,
            "grid_auto_columns": null,
            "grid_auto_flow": null,
            "grid_auto_rows": null,
            "grid_column": null,
            "grid_gap": null,
            "grid_row": null,
            "grid_template_areas": null,
            "grid_template_columns": null,
            "grid_template_rows": null,
            "height": null,
            "justify_content": null,
            "justify_items": null,
            "left": null,
            "margin": null,
            "max_height": null,
            "max_width": null,
            "min_height": null,
            "min_width": null,
            "object_fit": null,
            "object_position": null,
            "order": null,
            "overflow": null,
            "overflow_x": null,
            "overflow_y": null,
            "padding": null,
            "right": null,
            "top": null,
            "visibility": null,
            "width": null
          }
        },
        "ece09c057f5d46d5a4d928956ff5e3e2": {
          "model_module": "@jupyter-widgets/controls",
          "model_name": "DescriptionStyleModel",
          "model_module_version": "1.5.0",
          "state": {
            "_model_module": "@jupyter-widgets/controls",
            "_model_module_version": "1.5.0",
            "_model_name": "DescriptionStyleModel",
            "_view_count": null,
            "_view_module": "@jupyter-widgets/base",
            "_view_module_version": "1.2.0",
            "_view_name": "StyleView",
            "description_width": ""
          }
        },
        "9ec0c69a63a24113be824a1045b9ee28": {
          "model_module": "@jupyter-widgets/base",
          "model_name": "LayoutModel",
          "model_module_version": "1.2.0",
          "state": {
            "_model_module": "@jupyter-widgets/base",
            "_model_module_version": "1.2.0",
            "_model_name": "LayoutModel",
            "_view_count": null,
            "_view_module": "@jupyter-widgets/base",
            "_view_module_version": "1.2.0",
            "_view_name": "LayoutView",
            "align_content": null,
            "align_items": null,
            "align_self": null,
            "border": null,
            "bottom": null,
            "display": null,
            "flex": null,
            "flex_flow": null,
            "grid_area": null,
            "grid_auto_columns": null,
            "grid_auto_flow": null,
            "grid_auto_rows": null,
            "grid_column": null,
            "grid_gap": null,
            "grid_row": null,
            "grid_template_areas": null,
            "grid_template_columns": null,
            "grid_template_rows": null,
            "height": null,
            "justify_content": null,
            "justify_items": null,
            "left": null,
            "margin": null,
            "max_height": null,
            "max_width": null,
            "min_height": null,
            "min_width": null,
            "object_fit": null,
            "object_position": null,
            "order": null,
            "overflow": null,
            "overflow_x": null,
            "overflow_y": null,
            "padding": null,
            "right": null,
            "top": null,
            "visibility": null,
            "width": null
          }
        },
        "98f1c1e7f7474ad383b96b60a873bac6": {
          "model_module": "@jupyter-widgets/controls",
          "model_name": "ProgressStyleModel",
          "model_module_version": "1.5.0",
          "state": {
            "_model_module": "@jupyter-widgets/controls",
            "_model_module_version": "1.5.0",
            "_model_name": "ProgressStyleModel",
            "_view_count": null,
            "_view_module": "@jupyter-widgets/base",
            "_view_module_version": "1.2.0",
            "_view_name": "StyleView",
            "bar_color": null,
            "description_width": ""
          }
        },
        "6881ad6cd3c04b3d8947d3bc58c2bd69": {
          "model_module": "@jupyter-widgets/base",
          "model_name": "LayoutModel",
          "model_module_version": "1.2.0",
          "state": {
            "_model_module": "@jupyter-widgets/base",
            "_model_module_version": "1.2.0",
            "_model_name": "LayoutModel",
            "_view_count": null,
            "_view_module": "@jupyter-widgets/base",
            "_view_module_version": "1.2.0",
            "_view_name": "LayoutView",
            "align_content": null,
            "align_items": null,
            "align_self": null,
            "border": null,
            "bottom": null,
            "display": null,
            "flex": null,
            "flex_flow": null,
            "grid_area": null,
            "grid_auto_columns": null,
            "grid_auto_flow": null,
            "grid_auto_rows": null,
            "grid_column": null,
            "grid_gap": null,
            "grid_row": null,
            "grid_template_areas": null,
            "grid_template_columns": null,
            "grid_template_rows": null,
            "height": null,
            "justify_content": null,
            "justify_items": null,
            "left": null,
            "margin": null,
            "max_height": null,
            "max_width": null,
            "min_height": null,
            "min_width": null,
            "object_fit": null,
            "object_position": null,
            "order": null,
            "overflow": null,
            "overflow_x": null,
            "overflow_y": null,
            "padding": null,
            "right": null,
            "top": null,
            "visibility": null,
            "width": null
          }
        },
        "c6486d8c83d44c29beb0dec41906bb21": {
          "model_module": "@jupyter-widgets/controls",
          "model_name": "DescriptionStyleModel",
          "model_module_version": "1.5.0",
          "state": {
            "_model_module": "@jupyter-widgets/controls",
            "_model_module_version": "1.5.0",
            "_model_name": "DescriptionStyleModel",
            "_view_count": null,
            "_view_module": "@jupyter-widgets/base",
            "_view_module_version": "1.2.0",
            "_view_name": "StyleView",
            "description_width": ""
          }
        }
      }
    }
  },
  "cells": [
    {
      "cell_type": "markdown",
      "source": [
        "### Mounting drive to access the dataset zip\n",
        "\n",
        "\n"
      ],
      "metadata": {
        "id": "2f-pII96n5W3"
      }
    },
    {
      "cell_type": "code",
      "execution_count": null,
      "metadata": {
        "id": "h2uIBXDXzyas",
        "colab": {
          "base_uri": "https://localhost:8080/"
        },
        "outputId": "b2c7aee9-d6d2-4e35-9713-e6ad3807117e"
      },
      "outputs": [
        {
          "output_type": "stream",
          "name": "stdout",
          "text": [
            "Mounted at /content/drive\n"
          ]
        }
      ],
      "source": [
        "from google.colab import drive\n",
        "drive.mount('/content/drive')"
      ]
    },
    {
      "cell_type": "markdown",
      "source": [
        "### Unzipping the dataset"
      ],
      "metadata": {
        "id": "62DLRnDOoBlQ"
      }
    },
    {
      "cell_type": "code",
      "source": [
        "%%capture\n",
        "!unzip \"/content/drive/MyDrive/news_articles.zip\"\n"
      ],
      "metadata": {
        "id": "Sz8Te5RO3qzo",
        "outputId": "ef2feeaf-effe-4ce7-a7f5-0c7678e62ff2",
        "colab": {
          "base_uri": "https://localhost:8080/"
        }
      },
      "execution_count": null,
      "outputs": [
        {
          "metadata": {
            "tags": null
          },
          "name": "stdout",
          "output_type": "stream",
          "text": [
            "Archive:  /content/drive/MyDrive/news_articles.zip\n",
            "replace BBC News Summary/News Articles/business/001.txt? [y]es, [n]o, [A]ll, [N]one, [r]ename: "
          ]
        }
      ]
    },
    {
      "cell_type": "markdown",
      "source": [
        "### Reading the text files and extracting the articles and their summaries"
      ],
      "metadata": {
        "id": "_8xcT46RoFnA"
      }
    },
    {
      "cell_type": "code",
      "source": [
        "directories = [\"business\",\"entertainment\",\"politics\",\"sport\",\"tech\"]\n",
        "articles = []\n",
        "summaries = []\n",
        "for i in directories:\n",
        "  for k in range(1,10): ## We extract 10 articles from each domain from the text files\n",
        "    f1 = open(\"/content/BBC News Summary/News Articles/\"+i+\"/\"+str(k).zfill(3)+\".txt\", \"rb\")\n",
        "    articles.append(f1.read())\n",
        "    f2 = open(\"/content/BBC News Summary/Summaries/\"+i+\"/\"+str(k).zfill(3)+\".txt\", \"rb\")\n",
        "    summaries.append(f2.read())\n",
        "\n",
        "\n"
      ],
      "metadata": {
        "id": "YU5SgWAR65Nc"
      },
      "execution_count": null,
      "outputs": []
    },
    {
      "cell_type": "code",
      "source": [
        "articles[1]\n"
      ],
      "metadata": {
        "colab": {
          "base_uri": "https://localhost:8080/"
        },
        "id": "rm0iG5vbUqmG",
        "outputId": "865a0851-6b70-477a-efca-df931f8da34c"
      },
      "execution_count": null,
      "outputs": [
        {
          "output_type": "execute_result",
          "data": {
            "text/plain": [
              "b'Dollar gains on Greenspan speech\\n\\nThe dollar has hit its highest level against the euro in almost three months after the Federal Reserve head said the US trade deficit is set to stabilise.\\n\\nAnd Alan Greenspan highlighted the US government\\'s willingness to curb spending and rising household savings as factors which may help to reduce it. In late trading in New York, the dollar reached $1.2871 against the euro, from $1.2974 on Thursday. Market concerns about the deficit has hit the greenback in recent months. On Friday, Federal Reserve chairman Mr Greenspan\\'s speech in London ahead of the meeting of G7 finance ministers sent the dollar higher after it had earlier tumbled on the back of worse-than-expected US jobs data. \"I think the chairman\\'s taking a much more sanguine view on the current account deficit than he\\'s taken for some time,\" said Robert Sinche, head of currency strategy at Bank of America in New York. \"He\\'s taking a longer-term view, laying out a set of conditions under which the current account deficit can improve this year and next.\"\\n\\nWorries about the deficit concerns about China do, however, remain. China\\'s currency remains pegged to the dollar and the US currency\\'s sharp falls in recent months have therefore made Chinese export prices highly competitive. But calls for a shift in Beijing\\'s policy have fallen on deaf ears, despite recent comments in a major Chinese newspaper that the \"time is ripe\" for a loosening of the peg. The G7 meeting is thought unlikely to produce any meaningful movement in Chinese policy. In the meantime, the US Federal Reserve\\'s decision on 2 February to boost interest rates by a quarter of a point - the sixth such move in as many months - has opened up a differential with European rates. The half-point window, some believe, could be enough to keep US assets looking more attractive, and could help prop up the dollar. The recent falls have partly been the result of big budget deficits, as well as the US\\'s yawning current account gap, both of which need to be funded by the buying of US bonds and assets by foreign firms and governments. The White House will announce its budget on Monday, and many commentators believe the deficit will remain at close to half a trillion dollars.\\n'"
            ]
          },
          "metadata": {},
          "execution_count": 4
        }
      ]
    },
    {
      "cell_type": "code",
      "source": [
        "summaries[1]"
      ],
      "metadata": {
        "colab": {
          "base_uri": "https://localhost:8080/"
        },
        "id": "UISF2mVmYSEW",
        "outputId": "22da852f-43c4-49d8-ceca-7c1782eeeb90"
      },
      "execution_count": null,
      "outputs": [
        {
          "output_type": "execute_result",
          "data": {
            "text/plain": [
              "b'The dollar has hit its highest level against the euro in almost three months after the Federal Reserve head said the US trade deficit is set to stabilise.China\\'s currency remains pegged to the dollar and the US currency\\'s sharp falls in recent months have therefore made Chinese export prices highly competitive.Market concerns about the deficit has hit the greenback in recent months.\"I think the chairman\\'s taking a much more sanguine view on the current account deficit than he\\'s taken for some time,\" said Robert Sinche, head of currency strategy at Bank of America in New York.The recent falls have partly been the result of big budget deficits, as well as the US\\'s yawning current account gap, both of which need to be funded by the buying of US bonds and assets by foreign firms and governments.\"He\\'s taking a longer-term view, laying out a set of conditions under which the current account deficit can improve this year and next.\"'"
            ]
          },
          "metadata": {},
          "execution_count": 5
        }
      ]
    },
    {
      "cell_type": "markdown",
      "source": [
        "### Creating a dataframe for preprocessing the dataset"
      ],
      "metadata": {
        "id": "VAQL6sB_oSdw"
      }
    },
    {
      "cell_type": "code",
      "source": [
        "import pandas as pd\n",
        "data = pd.DataFrame(list(zip(articles,summaries)),columns=['article','summary'])"
      ],
      "metadata": {
        "id": "SDd6u0SpL9gL"
      },
      "execution_count": null,
      "outputs": []
    },
    {
      "cell_type": "code",
      "source": [
        "data.head()"
      ],
      "metadata": {
        "colab": {
          "base_uri": "https://localhost:8080/",
          "height": 206
        },
        "id": "-J8IvWTWML5D",
        "outputId": "cae95c3c-d73e-4f61-b556-63981ae7b1bd"
      },
      "execution_count": null,
      "outputs": [
        {
          "output_type": "execute_result",
          "data": {
            "text/plain": [
              "                                             article  \\\n",
              "0  b'Ad sales boost Time Warner profit\\n\\nQuarter...   \n",
              "1  b'Dollar gains on Greenspan speech\\n\\nThe doll...   \n",
              "2  b'Yukos unit buyer faces loan claim\\n\\nThe own...   \n",
              "3  b'High fuel prices hit BA\\'s profits\\n\\nBritis...   \n",
              "4  b\"Pernod takeover talk lifts Domecq\\n\\nShares ...   \n",
              "\n",
              "                                             summary  \n",
              "0  b\"TimeWarner said fourth quarter sales rose 2%...  \n",
              "1  b'The dollar has hit its highest level against...  \n",
              "2  b'Yukos\\' owner Menatep Group says it will ask...  \n",
              "3  b'Rod Eddington, BA\\'s chief executive, said t...  \n",
              "4  b\"Pernod has reduced the debt it took on to fu...  "
            ],
            "text/html": [
              "\n",
              "  <div id=\"df-0fc0f5d1-fcb3-474a-9782-ba00e26c8c3a\" class=\"colab-df-container\">\n",
              "    <div>\n",
              "<style scoped>\n",
              "    .dataframe tbody tr th:only-of-type {\n",
              "        vertical-align: middle;\n",
              "    }\n",
              "\n",
              "    .dataframe tbody tr th {\n",
              "        vertical-align: top;\n",
              "    }\n",
              "\n",
              "    .dataframe thead th {\n",
              "        text-align: right;\n",
              "    }\n",
              "</style>\n",
              "<table border=\"1\" class=\"dataframe\">\n",
              "  <thead>\n",
              "    <tr style=\"text-align: right;\">\n",
              "      <th></th>\n",
              "      <th>article</th>\n",
              "      <th>summary</th>\n",
              "    </tr>\n",
              "  </thead>\n",
              "  <tbody>\n",
              "    <tr>\n",
              "      <th>0</th>\n",
              "      <td>b'Ad sales boost Time Warner profit\\n\\nQuarter...</td>\n",
              "      <td>b\"TimeWarner said fourth quarter sales rose 2%...</td>\n",
              "    </tr>\n",
              "    <tr>\n",
              "      <th>1</th>\n",
              "      <td>b'Dollar gains on Greenspan speech\\n\\nThe doll...</td>\n",
              "      <td>b'The dollar has hit its highest level against...</td>\n",
              "    </tr>\n",
              "    <tr>\n",
              "      <th>2</th>\n",
              "      <td>b'Yukos unit buyer faces loan claim\\n\\nThe own...</td>\n",
              "      <td>b'Yukos\\' owner Menatep Group says it will ask...</td>\n",
              "    </tr>\n",
              "    <tr>\n",
              "      <th>3</th>\n",
              "      <td>b'High fuel prices hit BA\\'s profits\\n\\nBritis...</td>\n",
              "      <td>b'Rod Eddington, BA\\'s chief executive, said t...</td>\n",
              "    </tr>\n",
              "    <tr>\n",
              "      <th>4</th>\n",
              "      <td>b\"Pernod takeover talk lifts Domecq\\n\\nShares ...</td>\n",
              "      <td>b\"Pernod has reduced the debt it took on to fu...</td>\n",
              "    </tr>\n",
              "  </tbody>\n",
              "</table>\n",
              "</div>\n",
              "    <div class=\"colab-df-buttons\">\n",
              "\n",
              "  <div class=\"colab-df-container\">\n",
              "    <button class=\"colab-df-convert\" onclick=\"convertToInteractive('df-0fc0f5d1-fcb3-474a-9782-ba00e26c8c3a')\"\n",
              "            title=\"Convert this dataframe to an interactive table.\"\n",
              "            style=\"display:none;\">\n",
              "\n",
              "  <svg xmlns=\"http://www.w3.org/2000/svg\" height=\"24px\" viewBox=\"0 -960 960 960\">\n",
              "    <path d=\"M120-120v-720h720v720H120Zm60-500h600v-160H180v160Zm220 220h160v-160H400v160Zm0 220h160v-160H400v160ZM180-400h160v-160H180v160Zm440 0h160v-160H620v160ZM180-180h160v-160H180v160Zm440 0h160v-160H620v160Z\"/>\n",
              "  </svg>\n",
              "    </button>\n",
              "\n",
              "  <style>\n",
              "    .colab-df-container {\n",
              "      display:flex;\n",
              "      gap: 12px;\n",
              "    }\n",
              "\n",
              "    .colab-df-convert {\n",
              "      background-color: #E8F0FE;\n",
              "      border: none;\n",
              "      border-radius: 50%;\n",
              "      cursor: pointer;\n",
              "      display: none;\n",
              "      fill: #1967D2;\n",
              "      height: 32px;\n",
              "      padding: 0 0 0 0;\n",
              "      width: 32px;\n",
              "    }\n",
              "\n",
              "    .colab-df-convert:hover {\n",
              "      background-color: #E2EBFA;\n",
              "      box-shadow: 0px 1px 2px rgba(60, 64, 67, 0.3), 0px 1px 3px 1px rgba(60, 64, 67, 0.15);\n",
              "      fill: #174EA6;\n",
              "    }\n",
              "\n",
              "    .colab-df-buttons div {\n",
              "      margin-bottom: 4px;\n",
              "    }\n",
              "\n",
              "    [theme=dark] .colab-df-convert {\n",
              "      background-color: #3B4455;\n",
              "      fill: #D2E3FC;\n",
              "    }\n",
              "\n",
              "    [theme=dark] .colab-df-convert:hover {\n",
              "      background-color: #434B5C;\n",
              "      box-shadow: 0px 1px 3px 1px rgba(0, 0, 0, 0.15);\n",
              "      filter: drop-shadow(0px 1px 2px rgba(0, 0, 0, 0.3));\n",
              "      fill: #FFFFFF;\n",
              "    }\n",
              "  </style>\n",
              "\n",
              "    <script>\n",
              "      const buttonEl =\n",
              "        document.querySelector('#df-0fc0f5d1-fcb3-474a-9782-ba00e26c8c3a button.colab-df-convert');\n",
              "      buttonEl.style.display =\n",
              "        google.colab.kernel.accessAllowed ? 'block' : 'none';\n",
              "\n",
              "      async function convertToInteractive(key) {\n",
              "        const element = document.querySelector('#df-0fc0f5d1-fcb3-474a-9782-ba00e26c8c3a');\n",
              "        const dataTable =\n",
              "          await google.colab.kernel.invokeFunction('convertToInteractive',\n",
              "                                                    [key], {});\n",
              "        if (!dataTable) return;\n",
              "\n",
              "        const docLinkHtml = 'Like what you see? Visit the ' +\n",
              "          '<a target=\"_blank\" href=https://colab.research.google.com/notebooks/data_table.ipynb>data table notebook</a>'\n",
              "          + ' to learn more about interactive tables.';\n",
              "        element.innerHTML = '';\n",
              "        dataTable['output_type'] = 'display_data';\n",
              "        await google.colab.output.renderOutput(dataTable, element);\n",
              "        const docLink = document.createElement('div');\n",
              "        docLink.innerHTML = docLinkHtml;\n",
              "        element.appendChild(docLink);\n",
              "      }\n",
              "    </script>\n",
              "  </div>\n",
              "\n",
              "\n",
              "<div id=\"df-d5071fc9-c6d9-4e63-be16-04f89c4152c2\">\n",
              "  <button class=\"colab-df-quickchart\" onclick=\"quickchart('df-d5071fc9-c6d9-4e63-be16-04f89c4152c2')\"\n",
              "            title=\"Suggest charts\"\n",
              "            style=\"display:none;\">\n",
              "\n",
              "<svg xmlns=\"http://www.w3.org/2000/svg\" height=\"24px\"viewBox=\"0 0 24 24\"\n",
              "     width=\"24px\">\n",
              "    <g>\n",
              "        <path d=\"M19 3H5c-1.1 0-2 .9-2 2v14c0 1.1.9 2 2 2h14c1.1 0 2-.9 2-2V5c0-1.1-.9-2-2-2zM9 17H7v-7h2v7zm4 0h-2V7h2v10zm4 0h-2v-4h2v4z\"/>\n",
              "    </g>\n",
              "</svg>\n",
              "  </button>\n",
              "\n",
              "<style>\n",
              "  .colab-df-quickchart {\n",
              "      --bg-color: #E8F0FE;\n",
              "      --fill-color: #1967D2;\n",
              "      --hover-bg-color: #E2EBFA;\n",
              "      --hover-fill-color: #174EA6;\n",
              "      --disabled-fill-color: #AAA;\n",
              "      --disabled-bg-color: #DDD;\n",
              "  }\n",
              "\n",
              "  [theme=dark] .colab-df-quickchart {\n",
              "      --bg-color: #3B4455;\n",
              "      --fill-color: #D2E3FC;\n",
              "      --hover-bg-color: #434B5C;\n",
              "      --hover-fill-color: #FFFFFF;\n",
              "      --disabled-bg-color: #3B4455;\n",
              "      --disabled-fill-color: #666;\n",
              "  }\n",
              "\n",
              "  .colab-df-quickchart {\n",
              "    background-color: var(--bg-color);\n",
              "    border: none;\n",
              "    border-radius: 50%;\n",
              "    cursor: pointer;\n",
              "    display: none;\n",
              "    fill: var(--fill-color);\n",
              "    height: 32px;\n",
              "    padding: 0;\n",
              "    width: 32px;\n",
              "  }\n",
              "\n",
              "  .colab-df-quickchart:hover {\n",
              "    background-color: var(--hover-bg-color);\n",
              "    box-shadow: 0 1px 2px rgba(60, 64, 67, 0.3), 0 1px 3px 1px rgba(60, 64, 67, 0.15);\n",
              "    fill: var(--button-hover-fill-color);\n",
              "  }\n",
              "\n",
              "  .colab-df-quickchart-complete:disabled,\n",
              "  .colab-df-quickchart-complete:disabled:hover {\n",
              "    background-color: var(--disabled-bg-color);\n",
              "    fill: var(--disabled-fill-color);\n",
              "    box-shadow: none;\n",
              "  }\n",
              "\n",
              "  .colab-df-spinner {\n",
              "    border: 2px solid var(--fill-color);\n",
              "    border-color: transparent;\n",
              "    border-bottom-color: var(--fill-color);\n",
              "    animation:\n",
              "      spin 1s steps(1) infinite;\n",
              "  }\n",
              "\n",
              "  @keyframes spin {\n",
              "    0% {\n",
              "      border-color: transparent;\n",
              "      border-bottom-color: var(--fill-color);\n",
              "      border-left-color: var(--fill-color);\n",
              "    }\n",
              "    20% {\n",
              "      border-color: transparent;\n",
              "      border-left-color: var(--fill-color);\n",
              "      border-top-color: var(--fill-color);\n",
              "    }\n",
              "    30% {\n",
              "      border-color: transparent;\n",
              "      border-left-color: var(--fill-color);\n",
              "      border-top-color: var(--fill-color);\n",
              "      border-right-color: var(--fill-color);\n",
              "    }\n",
              "    40% {\n",
              "      border-color: transparent;\n",
              "      border-right-color: var(--fill-color);\n",
              "      border-top-color: var(--fill-color);\n",
              "    }\n",
              "    60% {\n",
              "      border-color: transparent;\n",
              "      border-right-color: var(--fill-color);\n",
              "    }\n",
              "    80% {\n",
              "      border-color: transparent;\n",
              "      border-right-color: var(--fill-color);\n",
              "      border-bottom-color: var(--fill-color);\n",
              "    }\n",
              "    90% {\n",
              "      border-color: transparent;\n",
              "      border-bottom-color: var(--fill-color);\n",
              "    }\n",
              "  }\n",
              "</style>\n",
              "\n",
              "  <script>\n",
              "    async function quickchart(key) {\n",
              "      const quickchartButtonEl =\n",
              "        document.querySelector('#' + key + ' button');\n",
              "      quickchartButtonEl.disabled = true;  // To prevent multiple clicks.\n",
              "      quickchartButtonEl.classList.add('colab-df-spinner');\n",
              "      try {\n",
              "        const charts = await google.colab.kernel.invokeFunction(\n",
              "            'suggestCharts', [key], {});\n",
              "      } catch (error) {\n",
              "        console.error('Error during call to suggestCharts:', error);\n",
              "      }\n",
              "      quickchartButtonEl.classList.remove('colab-df-spinner');\n",
              "      quickchartButtonEl.classList.add('colab-df-quickchart-complete');\n",
              "    }\n",
              "    (() => {\n",
              "      let quickchartButtonEl =\n",
              "        document.querySelector('#df-d5071fc9-c6d9-4e63-be16-04f89c4152c2 button');\n",
              "      quickchartButtonEl.style.display =\n",
              "        google.colab.kernel.accessAllowed ? 'block' : 'none';\n",
              "    })();\n",
              "  </script>\n",
              "</div>\n",
              "\n",
              "    </div>\n",
              "  </div>\n"
            ],
            "application/vnd.google.colaboratory.intrinsic+json": {
              "type": "dataframe",
              "variable_name": "data",
              "summary": "{\n  \"name\": \"data\",\n  \"rows\": 45,\n  \"fields\": [\n    {\n      \"column\": \"article\",\n      \"properties\": {\n        \"dtype\": \"string\",\n        \"num_unique_values\": 45,\n        \"samples\": [\n          \"b'Digital guru floats sub-$100 PC\\\\n\\\\nNicholas Negroponte, chairman and founder of MIT\\\\'s Media Labs, says he is developing a laptop PC that will go on sale for less than $100 (\\\\xc2\\\\xa353).\\\\n\\\\nHe told the BBC World Service programme Go Digital he hoped it would become an education tool in developing countries. He said one laptop per child could be \\\" very important to the development of not just that child but now the whole family, village and neighbourhood\\\". He said the child could use the laptop like a text book. He described the device as a stripped down laptop, which would run a Linux-based operating system, \\\"We have to get the display down to below $20, to do this we need to rear project the image rather than using an ordinary flat panel.\\\\n\\\\n\\\"The second trick is to get rid of the fat , if you can skinny it down you can gain speed and the ability to use smaller processors and slower memory.\\\" The device will probably be exported as a kit of parts to be assembled locally to keep costs down. Mr Negroponte said this was a not for profit venture, though he recognised that the manufacturers of the components would be making money. In 1995 Mr Negroponte published the bestselling Being Digital, now widely seen as predicting the digital age. The concept is based on experiments in the US state of Maine, where children were given laptop computers to take home and do their work on.\\\\n\\\\nWhile the idea was popular amongst the children, it initially received some resistance from the teachers and there were problems with laptops getting broken. However, Mr Negroponte has adapted the idea to his own work in Cambodia where he set up two schools together with his wife and gave the children laptops. \\\"We put in 25 laptops three years ago , only one has been broken, the kids cherish these things, it\\\\'s also a TV a telephone and a games machine, not just a textbook.\\\" Mr Negroponte wants the laptops to become more common than mobile phones but conceded this was ambitious. \\\"Nokia make 200 million cell phones a year, so for us to claim we\\\\'re going to make 200 million laptops is a big number, but we\\\\'re not talking about doing it in three or five years, we\\\\'re talking about months.\\\" He plans to be distributing them by the end of 2006 and is already in discussion with the Chinese education ministry who are expected to make a large order. \\\"In China they spend $17 per child per year on textbooks. That\\\\'s for five or six years, so if we can distribute and sell laptops in quantities of one million or more to ministries of education that\\\\'s cheaper and the marketing overheads go away.\\\"\\\\n'\",\n          \"b'Women MPs reveal sexist taunts\\\\n\\\\nWomen MPs endure \\\"shocking\\\" levels of sexist abuse at the hands of their male counterparts, a new study shows.\\\\n\\\\nMale MPs pretended to juggle imaginary breasts and jeered \\\"melons\\\" as women made Commons speeches, researchers from Birkbeck College were told. Labour\\\\'s Yvette Cooper said she found it hard to persuade Commons officials she was a minister and not a secretary. Some 83 MPs gave their answers in 100 hours of taped interviews for the study \\\"Whose Secretary are You, minister\\\".\\\\n\\\\nThe research team, under Professor Joni Lovenduski, had set out to look at the achievements and experiences of women at Westminster. But what emerged was complaints from MPs of all parties of sexist barracking in the Chamber, sexist insults and patronising assumptions about their abilities. Barbara Follet, one of the so-called \\\"Blair Babes\\\" elected in 1997, told researchers: \\\"I remember some Conservatives - whenever a Labour woman got up to speak they would take their breasts - imaginary breasts - in their hands and wiggle them and say \\\\'melons\\\\' as we spoke.\\\" Former Liberal Democrat MP Jackie Ballard recalled a stream of remarks from a leading MP on topics such as women\\\\'s legs or their sexual persuasion. And ex-Tory education secretary Gillian Shepherd remembered how one of her male colleagues called all women \\\"Betty\\\".\\\\n\\\\n\\\"When I said, \\\\'Look you know my name isn\\\\'t Betty\\\\', he said, \\\\'ah but you\\\\'re all the same, so I call you all Betty\\\\'.\\\" Harriet Harman told researchers of the sheer hostility prompted by her advancement to the Cabinet: \\\"Well, you\\\\'ve only succeeded because you\\\\'re a woman.\\\" Another current member of the Cabinet says she was told: \\\"Oh, you\\\\'ve had a very fast rise, who have you been sleeping with?\\\" Even after the great influx of women MPs at the 1997 general election, and greater numbers of women in the Cabinet, female MPs often say they feel stuck on the edge of a male world.\\\\n\\\\nLiberal Democrat Sarah Teather, the most recent female MP to be elected, told researchers: \\\"Lots of people say it\\\\'s like an old boys club. \\\"I\\\\'ve always said to me it feels more like a teenage public school - you know a public school full of teenagers.\\\" Prof Joni Lovenduski, who conducted the study with the help of Margaret Moran MP and a team of journalists, said she was shocked at the findings. \\\"We expected a bit of this but nothing like this extent. We expected to find a couple of shocking episodes.\\\" But she said there was a difference between the experiences of women before the 1997 intake and afterwards. This was mainly because there were more women present in Parliament who were not prepared to \\\"put up with\\\" the sexist attitudes they came across, Prof Lovenduski said. But she added: \\\"Some women, including the women who came in 1997, received extraordinary treatment and I am not convinced that if the number of women changed back to what it was before 1997 that things would not change back. \\\"What I think is shocking to the general public is that these things go on in the House of Commons.\\\" The interviews are to be placed in the British Library as a historical record.\\\\n'\",\n          \"b'Campbell: E-mail row \\\\'silly fuss\\\\'\\\\n\\\\nEx-No 10 media chief Alastair Campbell is at the centre of a new political row over an e-mail containing a four-letter outburst aimed at BBC journalists.\\\\n\\\\nMr Campbell sent the missive by mistake to BBC2\\\\'s Newsnight after it sought to question his role in Labour\\\\'s controversial poster campaign. He later contacted the show saying the original e-mail had been sent in error and that it was all a \\\"silly fuss\\\". Mr Campbell has recently re-joined Labour\\\\'s election campaign.\\\\n\\\\nThe e-mail was revealed the day after Peter Mandelson, former Labour minister and now a European Commissioner, warned the BBC to steer away from \\\"demonising\\\" Mr Campbell. Mr Campbell messaged Newsnight after the programme investigated claims that Labour\\\\'s advertising agency TBWA was blaming him for controversy over its campaign posters. The images, including one of flying pigs and another of what critics claim depicted Tory leader Michael Howard as Fagin, prompted accusations of anti-Semitism, claims denied by Labour.\\\\n\\\\nMr Campbell\\\\'s e-mail, which was apparently intended for a party official, suggested they should get Trevor Beattie, TBWA\\\\'s boss, to issue a statement. In it, he said: \\\"Just spoke to trev. think tbwa shd give statement to newsnight saying party and agency work together well and nobody here has spoken to standard. Posters done by by tbwa according to political brief. Now fuck off and cover something important you twats!\\\" The e-mail was sent by mistake to Newsnight journalist Andrew McFadyen. Realising his error, Mr Campbell then e-mailed Mr McFadyen pointing out the mistake, but suggesting presenter Jeremy Paxman would have seen the funny side.\\\\n\\\\nHe said: \\\"Not very good at this e-mail Blackberry malarkey. Just looked at log of sent messages, have realised e-mail meant for colleagues at TBWA has gone to you. For the record, first three sentences of email spot on. No row between me and trevor. \\\"Posters done by them according to our brief. I dreamt up flying pigs. Pigs not great but okay in the circs of Tories promising tax cuts and spending rises with the same money. TBWA made production. \\\"Campbell swears shock. Final sentence of earlier e-mail probably a bit colourful and personal considering we have never actually met but I\\\\'m sure you share the same sense of humour as your star presenter Mr P. \\\"Never known such a silly fuss since the last silly fuss but there we go. Must look forward not back.\\\"\\\\n\\\\nLater the prime minister\\\\'s spokesman was asked by journalists about his view on Mr Campbell\\\\'s use of abusive language. The spokesman said: \\\"The person you are referring to is capable of speaking for himself and he no longer works in government.\\\" Foreign Secretary Jack Straw said he had always had \\\"very good and polite relations\\\" with Mr Campbell, who he described as \\\"very talented\\\". But on the former spin doctor\\\\'s use of language, Mr Straw said: \\\"I do know the odd journalist who has occasionally used the odd word that would probably be inappropriate in some circumstances. Maybe I mix with the wrong kind of journalists.\\\" Liam Fox, Tory co-chairman, said the return of Mr Campbell was a sign of new \\\"sinister and underhand tactics\\\" by Labour.\\\\n'\"\n        ],\n        \"semantic_type\": \"\",\n        \"description\": \"\"\n      }\n    },\n    {\n      \"column\": \"summary\",\n      \"properties\": {\n        \"dtype\": \"string\",\n        \"num_unique_values\": 45,\n        \"samples\": [\n          \"b'He said one laptop per child could be \\\" very important to the development of not just that child but now the whole family, village and neighbourhood\\\".He said the child could use the laptop like a text book.Mr Negroponte wants the laptops to become more common than mobile phones but conceded this was ambitious.That\\\\'s for five or six years, so if we can distribute and sell laptops in quantities of one million or more to ministries of education that\\\\'s cheaper and the marketing overheads go away.\\\"Nicholas Negroponte, chairman and founder of MIT\\\\'s Media Labs, says he is developing a laptop PC that will go on sale for less than $100 (\\\\xc2\\\\xa353).The concept is based on experiments in the US state of Maine, where children were given laptop computers to take home and do their work on.However, Mr Negroponte has adapted the idea to his own work in Cambodia where he set up two schools together with his wife and gave the children laptops.\\\"Nokia make 200 million cell phones a year, so for us to claim we\\\\'re going to make 200 million laptops is a big number, but we\\\\'re not talking about doing it in three or five years, we\\\\'re talking about months.\\\"'\",\n          \"b'But she said there was a difference between the experiences of women before the 1997 intake and afterwards.Even after the great influx of women MPs at the 1997 general election, and greater numbers of women in the Cabinet, female MPs often say they feel stuck on the edge of a male world.This was mainly because there were more women present in Parliament who were not prepared to \\\"put up with\\\" the sexist attitudes they came across, Prof Lovenduski said.Male MPs pretended to juggle imaginary breasts and jeered \\\"melons\\\" as women made Commons speeches, researchers from Birkbeck College were told.Prof Joni Lovenduski, who conducted the study with the help of Margaret Moran MP and a team of journalists, said she was shocked at the findings.But she added: \\\"Some women, including the women who came in 1997, received extraordinary treatment and I am not convinced that if the number of women changed back to what it was before 1997 that things would not change back.Labour\\\\'s Yvette Cooper said she found it hard to persuade Commons officials she was a minister and not a secretary.Women MPs endure \\\"shocking\\\" levels of sexist abuse at the hands of their male counterparts, a new study shows.And ex-Tory education secretary Gillian Shepherd remembered how one of her male colleagues called all women \\\"Betty\\\".Barbara Follet, one of the so-called \\\"Blair Babes\\\" elected in 1997, told researchers: \\\"I remember some Conservatives - whenever a Labour woman got up to speak they would take their breasts - imaginary breasts - in their hands and wiggle them and say \\\\'melons\\\\' as we spoke.\\\"'\",\n          \"b'Mr Campbell messaged Newsnight after the programme investigated claims that Labour\\\\'s advertising agency TBWA was blaming him for controversy over its campaign posters.Liam Fox, Tory co-chairman, said the return of Mr Campbell was a sign of new \\\"sinister and underhand tactics\\\" by Labour.The e-mail was revealed the day after Peter Mandelson, former Labour minister and now a European Commissioner, warned the BBC to steer away from \\\"demonising\\\" Mr Campbell.The e-mail was sent by mistake to Newsnight journalist Andrew McFadyen.Mr Campbell has recently re-joined Labour\\\\'s election campaign.Mr Campbell sent the missive by mistake to BBC2\\\\'s Newsnight after it sought to question his role in Labour\\\\'s controversial poster campaign.Mr Campbell\\\\'s e-mail, which was apparently intended for a party official, suggested they should get Trevor Beattie, TBWA\\\\'s boss, to issue a statement.Foreign Secretary Jack Straw said he had always had \\\"very good and polite relations\\\" with Mr Campbell, who he described as \\\"very talented\\\".Ex-No 10 media chief Alastair Campbell is at the centre of a new political row over an e-mail containing a four-letter outburst aimed at BBC journalists.Realising his error, Mr Campbell then e-mailed Mr McFadyen pointing out the mistake, but suggesting presenter Jeremy Paxman would have seen the funny side.He said: \\\"Not very good at this e-mail Blackberry malarkey.He later contacted the show saying the original e-mail had been sent in error and that it was all a \\\"silly fuss\\\".Posters done by by tbwa according to political brief.'\"\n        ],\n        \"semantic_type\": \"\",\n        \"description\": \"\"\n      }\n    }\n  ]\n}"
            }
          },
          "metadata": {},
          "execution_count": 7
        }
      ]
    },
    {
      "cell_type": "markdown",
      "source": [
        "### Preprocessing the dataset"
      ],
      "metadata": {
        "id": "qzCejP2GoWWL"
      }
    },
    {
      "cell_type": "code",
      "source": [
        "import re\n",
        "\n",
        "def preprocess_text(text):\n",
        "    text = str(text)\n",
        "\n",
        "    text = re.sub(\"\\\\n\\\\n\", ' ', text)\n",
        "    text = re.sub(r\"b'|'$\", '', text) ## some preprocessing for bytes like objects\n",
        "    text = re.sub(r'[^a-zA-Z0-9\\s.,!?\\'-]', '', text) ## get rid of everything but alphanumeric characters and periods\n",
        "    text = text.lower() ## convert to lower case\n",
        "    text = re.sub(r'\\s+', ' ', text) ## get rid of extra spaces\n",
        "\n",
        "\n",
        "    return text\n",
        "\n",
        "## Apply to the summaries and articles\n",
        "data['summary'] = data['summary'].apply(preprocess_text)\n",
        "data['article'] = data['article'].apply(preprocess_text)"
      ],
      "metadata": {
        "id": "yy9dEdy4PK6y"
      },
      "execution_count": null,
      "outputs": []
    },
    {
      "cell_type": "code",
      "source": [
        "data.head()"
      ],
      "metadata": {
        "colab": {
          "base_uri": "https://localhost:8080/",
          "height": 206
        },
        "id": "s3zSM7GiVl6_",
        "outputId": "cdf2493c-8c1b-4851-b1b8-d978a7617332"
      },
      "execution_count": null,
      "outputs": [
        {
          "output_type": "execute_result",
          "data": {
            "text/plain": [
              "                                             article  \\\n",
              "0  ad sales boost time warner profitnnquarterly p...   \n",
              "1  dollar gains on greenspan speechnnthe dollar h...   \n",
              "2  yukos unit buyer faces loan claimnnthe owners ...   \n",
              "3  high fuel prices hit ba's profitsnnbritish air...   \n",
              "4  bpernod takeover talk lifts domecqnnshares in ...   \n",
              "\n",
              "                                             summary  \n",
              "0  btimewarner said fourth quarter sales rose 2 t...  \n",
              "1  the dollar has hit its highest level against t...  \n",
              "2  yukos' owner menatep group says it will ask ro...  \n",
              "3  rod eddington, ba's chief executive, said the ...  \n",
              "4  bpernod has reduced the debt it took on to fun...  "
            ],
            "text/html": [
              "\n",
              "  <div id=\"df-8290b244-a5c9-4e03-8929-08d72f20c9d6\" class=\"colab-df-container\">\n",
              "    <div>\n",
              "<style scoped>\n",
              "    .dataframe tbody tr th:only-of-type {\n",
              "        vertical-align: middle;\n",
              "    }\n",
              "\n",
              "    .dataframe tbody tr th {\n",
              "        vertical-align: top;\n",
              "    }\n",
              "\n",
              "    .dataframe thead th {\n",
              "        text-align: right;\n",
              "    }\n",
              "</style>\n",
              "<table border=\"1\" class=\"dataframe\">\n",
              "  <thead>\n",
              "    <tr style=\"text-align: right;\">\n",
              "      <th></th>\n",
              "      <th>article</th>\n",
              "      <th>summary</th>\n",
              "    </tr>\n",
              "  </thead>\n",
              "  <tbody>\n",
              "    <tr>\n",
              "      <th>0</th>\n",
              "      <td>ad sales boost time warner profitnnquarterly p...</td>\n",
              "      <td>btimewarner said fourth quarter sales rose 2 t...</td>\n",
              "    </tr>\n",
              "    <tr>\n",
              "      <th>1</th>\n",
              "      <td>dollar gains on greenspan speechnnthe dollar h...</td>\n",
              "      <td>the dollar has hit its highest level against t...</td>\n",
              "    </tr>\n",
              "    <tr>\n",
              "      <th>2</th>\n",
              "      <td>yukos unit buyer faces loan claimnnthe owners ...</td>\n",
              "      <td>yukos' owner menatep group says it will ask ro...</td>\n",
              "    </tr>\n",
              "    <tr>\n",
              "      <th>3</th>\n",
              "      <td>high fuel prices hit ba's profitsnnbritish air...</td>\n",
              "      <td>rod eddington, ba's chief executive, said the ...</td>\n",
              "    </tr>\n",
              "    <tr>\n",
              "      <th>4</th>\n",
              "      <td>bpernod takeover talk lifts domecqnnshares in ...</td>\n",
              "      <td>bpernod has reduced the debt it took on to fun...</td>\n",
              "    </tr>\n",
              "  </tbody>\n",
              "</table>\n",
              "</div>\n",
              "    <div class=\"colab-df-buttons\">\n",
              "\n",
              "  <div class=\"colab-df-container\">\n",
              "    <button class=\"colab-df-convert\" onclick=\"convertToInteractive('df-8290b244-a5c9-4e03-8929-08d72f20c9d6')\"\n",
              "            title=\"Convert this dataframe to an interactive table.\"\n",
              "            style=\"display:none;\">\n",
              "\n",
              "  <svg xmlns=\"http://www.w3.org/2000/svg\" height=\"24px\" viewBox=\"0 -960 960 960\">\n",
              "    <path d=\"M120-120v-720h720v720H120Zm60-500h600v-160H180v160Zm220 220h160v-160H400v160Zm0 220h160v-160H400v160ZM180-400h160v-160H180v160Zm440 0h160v-160H620v160ZM180-180h160v-160H180v160Zm440 0h160v-160H620v160Z\"/>\n",
              "  </svg>\n",
              "    </button>\n",
              "\n",
              "  <style>\n",
              "    .colab-df-container {\n",
              "      display:flex;\n",
              "      gap: 12px;\n",
              "    }\n",
              "\n",
              "    .colab-df-convert {\n",
              "      background-color: #E8F0FE;\n",
              "      border: none;\n",
              "      border-radius: 50%;\n",
              "      cursor: pointer;\n",
              "      display: none;\n",
              "      fill: #1967D2;\n",
              "      height: 32px;\n",
              "      padding: 0 0 0 0;\n",
              "      width: 32px;\n",
              "    }\n",
              "\n",
              "    .colab-df-convert:hover {\n",
              "      background-color: #E2EBFA;\n",
              "      box-shadow: 0px 1px 2px rgba(60, 64, 67, 0.3), 0px 1px 3px 1px rgba(60, 64, 67, 0.15);\n",
              "      fill: #174EA6;\n",
              "    }\n",
              "\n",
              "    .colab-df-buttons div {\n",
              "      margin-bottom: 4px;\n",
              "    }\n",
              "\n",
              "    [theme=dark] .colab-df-convert {\n",
              "      background-color: #3B4455;\n",
              "      fill: #D2E3FC;\n",
              "    }\n",
              "\n",
              "    [theme=dark] .colab-df-convert:hover {\n",
              "      background-color: #434B5C;\n",
              "      box-shadow: 0px 1px 3px 1px rgba(0, 0, 0, 0.15);\n",
              "      filter: drop-shadow(0px 1px 2px rgba(0, 0, 0, 0.3));\n",
              "      fill: #FFFFFF;\n",
              "    }\n",
              "  </style>\n",
              "\n",
              "    <script>\n",
              "      const buttonEl =\n",
              "        document.querySelector('#df-8290b244-a5c9-4e03-8929-08d72f20c9d6 button.colab-df-convert');\n",
              "      buttonEl.style.display =\n",
              "        google.colab.kernel.accessAllowed ? 'block' : 'none';\n",
              "\n",
              "      async function convertToInteractive(key) {\n",
              "        const element = document.querySelector('#df-8290b244-a5c9-4e03-8929-08d72f20c9d6');\n",
              "        const dataTable =\n",
              "          await google.colab.kernel.invokeFunction('convertToInteractive',\n",
              "                                                    [key], {});\n",
              "        if (!dataTable) return;\n",
              "\n",
              "        const docLinkHtml = 'Like what you see? Visit the ' +\n",
              "          '<a target=\"_blank\" href=https://colab.research.google.com/notebooks/data_table.ipynb>data table notebook</a>'\n",
              "          + ' to learn more about interactive tables.';\n",
              "        element.innerHTML = '';\n",
              "        dataTable['output_type'] = 'display_data';\n",
              "        await google.colab.output.renderOutput(dataTable, element);\n",
              "        const docLink = document.createElement('div');\n",
              "        docLink.innerHTML = docLinkHtml;\n",
              "        element.appendChild(docLink);\n",
              "      }\n",
              "    </script>\n",
              "  </div>\n",
              "\n",
              "\n",
              "<div id=\"df-6a2e199f-fb07-43ad-bb02-d9cbd65ed4be\">\n",
              "  <button class=\"colab-df-quickchart\" onclick=\"quickchart('df-6a2e199f-fb07-43ad-bb02-d9cbd65ed4be')\"\n",
              "            title=\"Suggest charts\"\n",
              "            style=\"display:none;\">\n",
              "\n",
              "<svg xmlns=\"http://www.w3.org/2000/svg\" height=\"24px\"viewBox=\"0 0 24 24\"\n",
              "     width=\"24px\">\n",
              "    <g>\n",
              "        <path d=\"M19 3H5c-1.1 0-2 .9-2 2v14c0 1.1.9 2 2 2h14c1.1 0 2-.9 2-2V5c0-1.1-.9-2-2-2zM9 17H7v-7h2v7zm4 0h-2V7h2v10zm4 0h-2v-4h2v4z\"/>\n",
              "    </g>\n",
              "</svg>\n",
              "  </button>\n",
              "\n",
              "<style>\n",
              "  .colab-df-quickchart {\n",
              "      --bg-color: #E8F0FE;\n",
              "      --fill-color: #1967D2;\n",
              "      --hover-bg-color: #E2EBFA;\n",
              "      --hover-fill-color: #174EA6;\n",
              "      --disabled-fill-color: #AAA;\n",
              "      --disabled-bg-color: #DDD;\n",
              "  }\n",
              "\n",
              "  [theme=dark] .colab-df-quickchart {\n",
              "      --bg-color: #3B4455;\n",
              "      --fill-color: #D2E3FC;\n",
              "      --hover-bg-color: #434B5C;\n",
              "      --hover-fill-color: #FFFFFF;\n",
              "      --disabled-bg-color: #3B4455;\n",
              "      --disabled-fill-color: #666;\n",
              "  }\n",
              "\n",
              "  .colab-df-quickchart {\n",
              "    background-color: var(--bg-color);\n",
              "    border: none;\n",
              "    border-radius: 50%;\n",
              "    cursor: pointer;\n",
              "    display: none;\n",
              "    fill: var(--fill-color);\n",
              "    height: 32px;\n",
              "    padding: 0;\n",
              "    width: 32px;\n",
              "  }\n",
              "\n",
              "  .colab-df-quickchart:hover {\n",
              "    background-color: var(--hover-bg-color);\n",
              "    box-shadow: 0 1px 2px rgba(60, 64, 67, 0.3), 0 1px 3px 1px rgba(60, 64, 67, 0.15);\n",
              "    fill: var(--button-hover-fill-color);\n",
              "  }\n",
              "\n",
              "  .colab-df-quickchart-complete:disabled,\n",
              "  .colab-df-quickchart-complete:disabled:hover {\n",
              "    background-color: var(--disabled-bg-color);\n",
              "    fill: var(--disabled-fill-color);\n",
              "    box-shadow: none;\n",
              "  }\n",
              "\n",
              "  .colab-df-spinner {\n",
              "    border: 2px solid var(--fill-color);\n",
              "    border-color: transparent;\n",
              "    border-bottom-color: var(--fill-color);\n",
              "    animation:\n",
              "      spin 1s steps(1) infinite;\n",
              "  }\n",
              "\n",
              "  @keyframes spin {\n",
              "    0% {\n",
              "      border-color: transparent;\n",
              "      border-bottom-color: var(--fill-color);\n",
              "      border-left-color: var(--fill-color);\n",
              "    }\n",
              "    20% {\n",
              "      border-color: transparent;\n",
              "      border-left-color: var(--fill-color);\n",
              "      border-top-color: var(--fill-color);\n",
              "    }\n",
              "    30% {\n",
              "      border-color: transparent;\n",
              "      border-left-color: var(--fill-color);\n",
              "      border-top-color: var(--fill-color);\n",
              "      border-right-color: var(--fill-color);\n",
              "    }\n",
              "    40% {\n",
              "      border-color: transparent;\n",
              "      border-right-color: var(--fill-color);\n",
              "      border-top-color: var(--fill-color);\n",
              "    }\n",
              "    60% {\n",
              "      border-color: transparent;\n",
              "      border-right-color: var(--fill-color);\n",
              "    }\n",
              "    80% {\n",
              "      border-color: transparent;\n",
              "      border-right-color: var(--fill-color);\n",
              "      border-bottom-color: var(--fill-color);\n",
              "    }\n",
              "    90% {\n",
              "      border-color: transparent;\n",
              "      border-bottom-color: var(--fill-color);\n",
              "    }\n",
              "  }\n",
              "</style>\n",
              "\n",
              "  <script>\n",
              "    async function quickchart(key) {\n",
              "      const quickchartButtonEl =\n",
              "        document.querySelector('#' + key + ' button');\n",
              "      quickchartButtonEl.disabled = true;  // To prevent multiple clicks.\n",
              "      quickchartButtonEl.classList.add('colab-df-spinner');\n",
              "      try {\n",
              "        const charts = await google.colab.kernel.invokeFunction(\n",
              "            'suggestCharts', [key], {});\n",
              "      } catch (error) {\n",
              "        console.error('Error during call to suggestCharts:', error);\n",
              "      }\n",
              "      quickchartButtonEl.classList.remove('colab-df-spinner');\n",
              "      quickchartButtonEl.classList.add('colab-df-quickchart-complete');\n",
              "    }\n",
              "    (() => {\n",
              "      let quickchartButtonEl =\n",
              "        document.querySelector('#df-6a2e199f-fb07-43ad-bb02-d9cbd65ed4be button');\n",
              "      quickchartButtonEl.style.display =\n",
              "        google.colab.kernel.accessAllowed ? 'block' : 'none';\n",
              "    })();\n",
              "  </script>\n",
              "</div>\n",
              "\n",
              "    </div>\n",
              "  </div>\n"
            ],
            "application/vnd.google.colaboratory.intrinsic+json": {
              "type": "dataframe",
              "variable_name": "data",
              "summary": "{\n  \"name\": \"data\",\n  \"rows\": 45,\n  \"fields\": [\n    {\n      \"column\": \"article\",\n      \"properties\": {\n        \"dtype\": \"string\",\n        \"num_unique_values\": 45,\n        \"samples\": [\n          \"digital guru floats sub-100 pcnnnicholas negroponte, chairman and founder of mit's media labs, says he is developing a laptop pc that will go on sale for less than 100 xc2xa353.nnhe told the bbc world service programme go digital he hoped it would become an education tool in developing countries. he said one laptop per child could be very important to the development of not just that child but now the whole family, village and neighbourhood. he said the child could use the laptop like a text book. he described the device as a stripped down laptop, which would run a linux-based operating system, we have to get the display down to below 20, to do this we need to rear project the image rather than using an ordinary flat panel.nnthe second trick is to get rid of the fat , if you can skinny it down you can gain speed and the ability to use smaller processors and slower memory. the device will probably be exported as a kit of parts to be assembled locally to keep costs down. mr negroponte said this was a not for profit venture, though he recognised that the manufacturers of the components would be making money. in 1995 mr negroponte published the bestselling being digital, now widely seen as predicting the digital age. the concept is based on experiments in the us state of maine, where children were given laptop computers to take home and do their work on.nnwhile the idea was popular amongst the children, it initially received some resistance from the teachers and there were problems with laptops getting broken. however, mr negroponte has adapted the idea to his own work in cambodia where he set up two schools together with his wife and gave the children laptops. we put in 25 laptops three years ago , only one has been broken, the kids cherish these things, it's also a tv a telephone and a games machine, not just a textbook. mr negroponte wants the laptops to become more common than mobile phones but conceded this was ambitious. nokia make 200 million cell phones a year, so for us to claim we're going to make 200 million laptops is a big number, but we're not talking about doing it in three or five years, we're talking about months. he plans to be distributing them by the end of 2006 and is already in discussion with the chinese education ministry who are expected to make a large order. in china they spend 17 per child per year on textbooks. that's for five or six years, so if we can distribute and sell laptops in quantities of one million or more to ministries of education that's cheaper and the marketing overheads go away.n\",\n          \"women mps reveal sexist tauntsnnwomen mps endure shocking levels of sexist abuse at the hands of their male counterparts, a new study shows.nnmale mps pretended to juggle imaginary breasts and jeered melons as women made commons speeches, researchers from birkbeck college were told. labour's yvette cooper said she found it hard to persuade commons officials she was a minister and not a secretary. some 83 mps gave their answers in 100 hours of taped interviews for the study whose secretary are you, minister.nnthe research team, under professor joni lovenduski, had set out to look at the achievements and experiences of women at westminster. but what emerged was complaints from mps of all parties of sexist barracking in the chamber, sexist insults and patronising assumptions about their abilities. barbara follet, one of the so-called blair babes elected in 1997, told researchers i remember some conservatives - whenever a labour woman got up to speak they would take their breasts - imaginary breasts - in their hands and wiggle them and say 'melons' as we spoke. former liberal democrat mp jackie ballard recalled a stream of remarks from a leading mp on topics such as women's legs or their sexual persuasion. and ex-tory education secretary gillian shepherd remembered how one of her male colleagues called all women betty.nnwhen i said, 'look you know my name isn't betty', he said, 'ah but you're all the same, so i call you all betty'. harriet harman told researchers of the sheer hostility prompted by her advancement to the cabinet well, you've only succeeded because you're a woman. another current member of the cabinet says she was told oh, you've had a very fast rise, who have you been sleeping with? even after the great influx of women mps at the 1997 general election, and greater numbers of women in the cabinet, female mps often say they feel stuck on the edge of a male world.nnliberal democrat sarah teather, the most recent female mp to be elected, told researchers lots of people say it's like an old boys club. i've always said to me it feels more like a teenage public school - you know a public school full of teenagers. prof joni lovenduski, who conducted the study with the help of margaret moran mp and a team of journalists, said she was shocked at the findings. we expected a bit of this but nothing like this extent. we expected to find a couple of shocking episodes. but she said there was a difference between the experiences of women before the 1997 intake and afterwards. this was mainly because there were more women present in parliament who were not prepared to put up with the sexist attitudes they came across, prof lovenduski said. but she added some women, including the women who came in 1997, received extraordinary treatment and i am not convinced that if the number of women changed back to what it was before 1997 that things would not change back. what i think is shocking to the general public is that these things go on in the house of commons. the interviews are to be placed in the british library as a historical record.n\",\n          \"campbell e-mail row 'silly fuss'nnex-no 10 media chief alastair campbell is at the centre of a new political row over an e-mail containing a four-letter outburst aimed at bbc journalists.nnmr campbell sent the missive by mistake to bbc2's newsnight after it sought to question his role in labour's controversial poster campaign. he later contacted the show saying the original e-mail had been sent in error and that it was all a silly fuss. mr campbell has recently re-joined labour's election campaign.nnthe e-mail was revealed the day after peter mandelson, former labour minister and now a european commissioner, warned the bbc to steer away from demonising mr campbell. mr campbell messaged newsnight after the programme investigated claims that labour's advertising agency tbwa was blaming him for controversy over its campaign posters. the images, including one of flying pigs and another of what critics claim depicted tory leader michael howard as fagin, prompted accusations of anti-semitism, claims denied by labour.nnmr campbell's e-mail, which was apparently intended for a party official, suggested they should get trevor beattie, tbwa's boss, to issue a statement. in it, he said just spoke to trev. think tbwa shd give statement to newsnight saying party and agency work together well and nobody here has spoken to standard. posters done by by tbwa according to political brief. now fuck off and cover something important you twats! the e-mail was sent by mistake to newsnight journalist andrew mcfadyen. realising his error, mr campbell then e-mailed mr mcfadyen pointing out the mistake, but suggesting presenter jeremy paxman would have seen the funny side.nnhe said not very good at this e-mail blackberry malarkey. just looked at log of sent messages, have realised e-mail meant for colleagues at tbwa has gone to you. for the record, first three sentences of email spot on. no row between me and trevor. posters done by them according to our brief. i dreamt up flying pigs. pigs not great but okay in the circs of tories promising tax cuts and spending rises with the same money. tbwa made production. campbell swears shock. final sentence of earlier e-mail probably a bit colourful and personal considering we have never actually met but i'm sure you share the same sense of humour as your star presenter mr p. never known such a silly fuss since the last silly fuss but there we go. must look forward not back.nnlater the prime minister's spokesman was asked by journalists about his view on mr campbell's use of abusive language. the spokesman said the person you are referring to is capable of speaking for himself and he no longer works in government. foreign secretary jack straw said he had always had very good and polite relations with mr campbell, who he described as very talented. but on the former spin doctor's use of language, mr straw said i do know the odd journalist who has occasionally used the odd word that would probably be inappropriate in some circumstances. maybe i mix with the wrong kind of journalists. liam fox, tory co-chairman, said the return of mr campbell was a sign of new sinister and underhand tactics by labour.n\"\n        ],\n        \"semantic_type\": \"\",\n        \"description\": \"\"\n      }\n    },\n    {\n      \"column\": \"summary\",\n      \"properties\": {\n        \"dtype\": \"string\",\n        \"num_unique_values\": 45,\n        \"samples\": [\n          \"he said one laptop per child could be very important to the development of not just that child but now the whole family, village and neighbourhood.he said the child could use the laptop like a text book.mr negroponte wants the laptops to become more common than mobile phones but conceded this was ambitious.that's for five or six years, so if we can distribute and sell laptops in quantities of one million or more to ministries of education that's cheaper and the marketing overheads go away.nicholas negroponte, chairman and founder of mit's media labs, says he is developing a laptop pc that will go on sale for less than 100 xc2xa353.the concept is based on experiments in the us state of maine, where children were given laptop computers to take home and do their work on.however, mr negroponte has adapted the idea to his own work in cambodia where he set up two schools together with his wife and gave the children laptops.nokia make 200 million cell phones a year, so for us to claim we're going to make 200 million laptops is a big number, but we're not talking about doing it in three or five years, we're talking about months.\",\n          \"but she said there was a difference between the experiences of women before the 1997 intake and afterwards.even after the great influx of women mps at the 1997 general election, and greater numbers of women in the cabinet, female mps often say they feel stuck on the edge of a male world.this was mainly because there were more women present in parliament who were not prepared to put up with the sexist attitudes they came across, prof lovenduski said.male mps pretended to juggle imaginary breasts and jeered melons as women made commons speeches, researchers from birkbeck college were told.prof joni lovenduski, who conducted the study with the help of margaret moran mp and a team of journalists, said she was shocked at the findings.but she added some women, including the women who came in 1997, received extraordinary treatment and i am not convinced that if the number of women changed back to what it was before 1997 that things would not change back.labour's yvette cooper said she found it hard to persuade commons officials she was a minister and not a secretary.women mps endure shocking levels of sexist abuse at the hands of their male counterparts, a new study shows.and ex-tory education secretary gillian shepherd remembered how one of her male colleagues called all women betty.barbara follet, one of the so-called blair babes elected in 1997, told researchers i remember some conservatives - whenever a labour woman got up to speak they would take their breasts - imaginary breasts - in their hands and wiggle them and say 'melons' as we spoke.\",\n          \"mr campbell messaged newsnight after the programme investigated claims that labour's advertising agency tbwa was blaming him for controversy over its campaign posters.liam fox, tory co-chairman, said the return of mr campbell was a sign of new sinister and underhand tactics by labour.the e-mail was revealed the day after peter mandelson, former labour minister and now a european commissioner, warned the bbc to steer away from demonising mr campbell.the e-mail was sent by mistake to newsnight journalist andrew mcfadyen.mr campbell has recently re-joined labour's election campaign.mr campbell sent the missive by mistake to bbc2's newsnight after it sought to question his role in labour's controversial poster campaign.mr campbell's e-mail, which was apparently intended for a party official, suggested they should get trevor beattie, tbwa's boss, to issue a statement.foreign secretary jack straw said he had always had very good and polite relations with mr campbell, who he described as very talented.ex-no 10 media chief alastair campbell is at the centre of a new political row over an e-mail containing a four-letter outburst aimed at bbc journalists.realising his error, mr campbell then e-mailed mr mcfadyen pointing out the mistake, but suggesting presenter jeremy paxman would have seen the funny side.he said not very good at this e-mail blackberry malarkey.he later contacted the show saying the original e-mail had been sent in error and that it was all a silly fuss.posters done by by tbwa according to political brief.\"\n        ],\n        \"semantic_type\": \"\",\n        \"description\": \"\"\n      }\n    }\n  ]\n}"
            }
          },
          "metadata": {},
          "execution_count": 9
        }
      ]
    },
    {
      "cell_type": "code",
      "source": [
        "\n",
        "import nltk\n",
        "nltk.download('punkt')\n",
        "\n",
        "## We use the sentence tokenizer to split the article into sentences\n",
        "from nltk.tokenize import sent_tokenize"
      ],
      "metadata": {
        "id": "nrvuRhxyYVti",
        "colab": {
          "base_uri": "https://localhost:8080/"
        },
        "outputId": "26f58262-96d5-4137-ed7c-14e65a187377"
      },
      "execution_count": null,
      "outputs": [
        {
          "output_type": "stream",
          "name": "stderr",
          "text": [
            "[nltk_data] Downloading package punkt to /root/nltk_data...\n",
            "[nltk_data]   Unzipping tokenizers/punkt.zip.\n"
          ]
        }
      ]
    },
    {
      "cell_type": "markdown",
      "source": [
        "### Using the NLTK sentence tokenizer in order to split the articles into sentences"
      ],
      "metadata": {
        "id": "Ur7ByVc8oZnv"
      }
    },
    {
      "cell_type": "code",
      "source": [
        "def tokenize_text(data,column):\n",
        "  tokenized_text = []\n",
        "  for i in data[column]: ## for every article or summary\n",
        "    sentences = sent_tokenize(i) ## create a list of sentences\n",
        "    tokenized_text.append(sentences) ## append to collection of text\n",
        "  return tokenized_text\n",
        "\n",
        "\n",
        "tokenized_articles = tokenize_text(data,\"article\")\n",
        "tokenized_summaries = tokenize_text(data,\"summary\")"
      ],
      "metadata": {
        "id": "QMw9RuQNLLMD"
      },
      "execution_count": null,
      "outputs": []
    },
    {
      "cell_type": "code",
      "source": [
        "tokenized_articles[1]"
      ],
      "metadata": {
        "colab": {
          "base_uri": "https://localhost:8080/"
        },
        "id": "10XA2-noLctb",
        "outputId": "896cc643-bfaa-498f-da37-7ea2f555e2a3"
      },
      "execution_count": null,
      "outputs": [
        {
          "output_type": "execute_result",
          "data": {
            "text/plain": [
              "[\"dollar gains on greenspan speechnnthe dollar has hit its highest level against the euro in almost three months after the federal reserve head said the us trade deficit is set to stabilise.nnand alan greenspan highlighted the us government's willingness to curb spending and rising household savings as factors which may help to reduce it.\",\n",
              " 'in late trading in new york, the dollar reached 1.2871 against the euro, from 1.2974 on thursday.',\n",
              " 'market concerns about the deficit has hit the greenback in recent months.',\n",
              " \"on friday, federal reserve chairman mr greenspan's speech in london ahead of the meeting of g7 finance ministers sent the dollar higher after it had earlier tumbled on the back of worse-than-expected us jobs data.\",\n",
              " \"i think the chairman's taking a much more sanguine view on the current account deficit than he's taken for some time, said robert sinche, head of currency strategy at bank of america in new york.\",\n",
              " \"he's taking a longer-term view, laying out a set of conditions under which the current account deficit can improve this year and next.nnworries about the deficit concerns about china do, however, remain.\",\n",
              " \"china's currency remains pegged to the dollar and the us currency's sharp falls in recent months have therefore made chinese export prices highly competitive.\",\n",
              " \"but calls for a shift in beijing's policy have fallen on deaf ears, despite recent comments in a major chinese newspaper that the time is ripe for a loosening of the peg.\",\n",
              " 'the g7 meeting is thought unlikely to produce any meaningful movement in chinese policy.',\n",
              " \"in the meantime, the us federal reserve's decision on 2 february to boost interest rates by a quarter of a point - the sixth such move in as many months - has opened up a differential with european rates.\",\n",
              " 'the half-point window, some believe, could be enough to keep us assets looking more attractive, and could help prop up the dollar.',\n",
              " \"the recent falls have partly been the result of big budget deficits, as well as the us's yawning current account gap, both of which need to be funded by the buying of us bonds and assets by foreign firms and governments.\",\n",
              " 'the white house will announce its budget on monday, and many commentators believe the deficit will remain at close to half a trillion dollars.n']"
            ]
          },
          "metadata": {},
          "execution_count": 12
        }
      ]
    },
    {
      "cell_type": "markdown",
      "source": [
        "### Vectorizing every word in every article sentence and then adding up the word vectors so as to create a sentence vector"
      ],
      "metadata": {
        "id": "Xtvu5g8oo3M1"
      }
    },
    {
      "cell_type": "code",
      "source": [
        "from gensim.models import Word2Vec ## Use word2vec embeddings to vectorize words in a sentence\n",
        "sentences = []\n",
        "for i in tokenized_articles:\n",
        "  for j in i:\n",
        "    words = nltk.word_tokenize(j) ## Use a word tokenizer to tokenize words in a sentence\n",
        "    sentences.append(words)\n",
        "\n"
      ],
      "metadata": {
        "id": "nWjIyIgg9spA"
      },
      "execution_count": null,
      "outputs": []
    },
    {
      "cell_type": "code",
      "source": [
        "model = Word2Vec(sentences, vector_size=50,min_count=1) ## fit the word2vec model on the given sentences"
      ],
      "metadata": {
        "id": "stzrkTZ2YL6t"
      },
      "execution_count": null,
      "outputs": []
    },
    {
      "cell_type": "code",
      "source": [
        "import numpy as np"
      ],
      "metadata": {
        "id": "sxjKLA3oAMDo"
      },
      "execution_count": null,
      "outputs": []
    },
    {
      "cell_type": "code",
      "source": [
        "def vectorize(text, model):\n",
        "  text_representation = []\n",
        "  for i in text:\n",
        "    sentence_vector = np.zeros(50) ## create an empty sentence vector\n",
        "    for j in nltk.word_tokenize(i): ## obtain the word vector from the word2vec model\n",
        "          sentence_vector+= model.wv[j] ## add the word vector to the sentence vector\n",
        "    sentence_vector = sentence_vector/len(nltk.word_tokenize(i)) ## divide thevector by the number of words to get the mean\n",
        "    text_representation.append(sentence_vector)\n",
        "  return text_representation"
      ],
      "metadata": {
        "id": "E10ezy-xl_aI"
      },
      "execution_count": null,
      "outputs": []
    },
    {
      "cell_type": "code",
      "source": [
        "vectorized_articles = []\n",
        "for i in tokenized_articles:\n",
        "  vectorized_articles.append(vectorize(i,model))"
      ],
      "metadata": {
        "id": "YeETnu5pd1AW"
      },
      "execution_count": null,
      "outputs": []
    },
    {
      "cell_type": "markdown",
      "source": [
        "## K-means clustering"
      ],
      "metadata": {
        "id": "qj2h0YAoqAzw"
      }
    },
    {
      "cell_type": "markdown",
      "source": [
        "### Clustering the sentences for all the articles"
      ],
      "metadata": {
        "id": "HHR2aDoppeUM"
      }
    },
    {
      "cell_type": "code",
      "source": [
        "from sklearn.cluster import KMeans\n",
        "\n",
        "article_clusters_kmeans = []\n",
        "models = []\n",
        "for i in range(0,len(vectorized_articles)): ## for every article\n",
        "  k = 5\n",
        "  model_kmeans = KMeans(k, random_state = 42,n_init=10) ## initialze the model\n",
        "  models.append(model_kmeans)\n",
        "  if(len(vectorized_articles[i])>1):\n",
        "    clusters = model_kmeans.fit_predict( vectorized_articles[i]) ## use kmeans to cluster the sentences\n",
        "    article_clusters_kmeans.append(clusters) ## store assigned labels\n",
        "\n"
      ],
      "metadata": {
        "id": "bX5rGOppskcN"
      },
      "execution_count": null,
      "outputs": []
    },
    {
      "cell_type": "markdown",
      "source": [
        "### Using the distances of each sentence from the cluster centroid in order to select the representative sentence to add in the summary"
      ],
      "metadata": {
        "id": "upmuJ9B1poVz"
      }
    },
    {
      "cell_type": "code",
      "source": [
        "from scipy.spatial import distance\n",
        "\n",
        "def getDistance(model,i, vector): ## this function returns the distance of a point from its centroid\n",
        "  return distance.euclidean(model.cluster_centers_[i],vector)\n",
        "\n",
        "def returnArticleSummary(tokenized_sentences,vectorized_sentences,cluster,model):\n",
        "  selected_sentences = dict() ## a dictionary to store (cluster, representative sentence pairs)\n",
        "  summary = dict()\n",
        "  for i in range(0,len(tokenized_sentences)):\n",
        "    if (cluster[i] not in selected_sentences): ## initialize the selected sentence\n",
        "      selected_sentences[cluster[i]] = vectorized_sentences[i]\n",
        "      summary[cluster[i]] = tokenized_sentences[i]\n",
        "    else:\n",
        "      centroid = cluster[i]\n",
        "      if getDistance(model,centroid,selected_sentences[cluster[i]]) > getDistance(model,centroid,vectorized_sentences[i]):\n",
        "        ## replace the representative sentence if the current sentence is closer to the centroid\n",
        "        selected_sentences[cluster[i]] = vectorized_sentences[i]\n",
        "        summary[cluster[i]] = tokenized_sentences[i]\n",
        "\n",
        "  return \" \".join(summary.values()) ## concatenate the selected sentences and return the summary"
      ],
      "metadata": {
        "id": "lEGqsFCJZFfr"
      },
      "execution_count": null,
      "outputs": []
    },
    {
      "cell_type": "code",
      "source": [
        "print(returnArticleSummary(tokenized_articles[1],vectorized_articles[1],article_clusters_kmeans[1],models[1]))"
      ],
      "metadata": {
        "colab": {
          "base_uri": "https://localhost:8080/"
        },
        "id": "OnYwJR1kfrQH",
        "outputId": "cef445b7-7c04-4721-a59a-74e1d2ba634d"
      },
      "execution_count": null,
      "outputs": [
        {
          "output_type": "stream",
          "name": "stdout",
          "text": [
            "dollar gains on greenspan speechnnthe dollar has hit its highest level against the euro in almost three months after the federal reserve head said the us trade deficit is set to stabilise.nnand alan greenspan highlighted the us government's willingness to curb spending and rising household savings as factors which may help to reduce it. in late trading in new york, the dollar reached 1.2871 against the euro, from 1.2974 on thursday. he's taking a longer-term view, laying out a set of conditions under which the current account deficit can improve this year and next.nnworries about the deficit concerns about china do, however, remain. i think the chairman's taking a much more sanguine view on the current account deficit than he's taken for some time, said robert sinche, head of currency strategy at bank of america in new york. in the meantime, the us federal reserve's decision on 2 february to boost interest rates by a quarter of a point - the sixth such move in as many months - has opened up a differential with european rates.\n"
          ]
        }
      ]
    },
    {
      "cell_type": "code",
      "source": [
        "print(summaries[1])"
      ],
      "metadata": {
        "colab": {
          "base_uri": "https://localhost:8080/"
        },
        "id": "h44TfxeRhyRl",
        "outputId": "74590769-5351-477b-a12d-17404c951715"
      },
      "execution_count": null,
      "outputs": [
        {
          "output_type": "stream",
          "name": "stdout",
          "text": [
            "b'The dollar has hit its highest level against the euro in almost three months after the Federal Reserve head said the US trade deficit is set to stabilise.China\\'s currency remains pegged to the dollar and the US currency\\'s sharp falls in recent months have therefore made Chinese export prices highly competitive.Market concerns about the deficit has hit the greenback in recent months.\"I think the chairman\\'s taking a much more sanguine view on the current account deficit than he\\'s taken for some time,\" said Robert Sinche, head of currency strategy at Bank of America in New York.The recent falls have partly been the result of big budget deficits, as well as the US\\'s yawning current account gap, both of which need to be funded by the buying of US bonds and assets by foreign firms and governments.\"He\\'s taking a longer-term view, laying out a set of conditions under which the current account deficit can improve this year and next.\"'\n"
          ]
        }
      ]
    },
    {
      "cell_type": "code",
      "source": [
        "predicted_summaries_kmeans = []\n",
        "for i in range(0,len(vectorized_articles)):\n",
        "  ## generate summaries for every article\n",
        "  predicted_summaries_kmeans.append(returnArticleSummary(tokenized_articles[i],vectorized_articles[i],article_clusters_kmeans[i],models[i]))\n",
        "  if(i>=0 and i<=3):\n",
        "    print(returnArticleSummary(tokenized_articles[i],vectorized_articles[i],article_clusters_kmeans[i],models[i]))\n",
        "    print()\n",
        "    print(summaries[i])\n",
        "    print(\"*\"*15)"
      ],
      "metadata": {
        "colab": {
          "base_uri": "https://localhost:8080/"
        },
        "id": "MNVl04b2iCm9",
        "outputId": "549eafe1-b97f-428b-f7e0-c8a76730cc5a"
      },
      "execution_count": null,
      "outputs": [
        {
          "output_type": "stream",
          "name": "stdout",
          "text": [
            "ad sales boost time warner profitnnquarterly profits at us media giant timewarner jumped 76 to 1.13bn xc2xa3600m for the three months to december, from 639m year-earlier.nnthe firm, which is now one of the biggest investors in google, benefited from sales of high-speed internet connections and higher advert sales. timewarner said fourth quarter sales rose 2 to 11.1bn from 10.9bn. it intends to adjust the way it accounts for a deal with german music publisher bertelsmann's purchase of a stake in aol europe, which it had reported as advertising revenue. for the full-year, timewarner posted a profit of 3.36bn, up 27 from its 2003 performance, while revenues grew 6.4 to 42.09bn. it will now book the sale of its stake in aol europe as a loss on the value of that stake.n\n",
            "\n",
            "b\"TimeWarner said fourth quarter sales rose 2% to $11.1bn from $10.9bn.For the full-year, TimeWarner posted a profit of $3.36bn, up 27% from its 2003 performance, while revenues grew 6.4% to $42.09bn.Quarterly profits at US media giant TimeWarner jumped 76% to $1.13bn (\\xc2\\xa3600m) for the three months to December, from $639m year-earlier.However, the company said AOL's underlying profit before exceptional items rose 8% on the back of stronger internet advertising revenues.Its profits were buoyed by one-off gains which offset a profit dip at Warner Bros, and less users for AOL.For 2005, TimeWarner is projecting operating earnings growth of around 5%, and also expects higher revenue and wider profit margins.It lost 464,000 subscribers in the fourth quarter profits were lower than in the preceding three quarters.Time Warner's fourth quarter profits were slightly better than analysts' expectations.\"\n",
            "***************\n",
            "dollar gains on greenspan speechnnthe dollar has hit its highest level against the euro in almost three months after the federal reserve head said the us trade deficit is set to stabilise.nnand alan greenspan highlighted the us government's willingness to curb spending and rising household savings as factors which may help to reduce it. in late trading in new york, the dollar reached 1.2871 against the euro, from 1.2974 on thursday. he's taking a longer-term view, laying out a set of conditions under which the current account deficit can improve this year and next.nnworries about the deficit concerns about china do, however, remain. i think the chairman's taking a much more sanguine view on the current account deficit than he's taken for some time, said robert sinche, head of currency strategy at bank of america in new york. in the meantime, the us federal reserve's decision on 2 february to boost interest rates by a quarter of a point - the sixth such move in as many months - has opened up a differential with european rates.\n",
            "\n",
            "b'The dollar has hit its highest level against the euro in almost three months after the Federal Reserve head said the US trade deficit is set to stabilise.China\\'s currency remains pegged to the dollar and the US currency\\'s sharp falls in recent months have therefore made Chinese export prices highly competitive.Market concerns about the deficit has hit the greenback in recent months.\"I think the chairman\\'s taking a much more sanguine view on the current account deficit than he\\'s taken for some time,\" said Robert Sinche, head of currency strategy at Bank of America in New York.The recent falls have partly been the result of big budget deficits, as well as the US\\'s yawning current account gap, both of which need to be funded by the buying of US bonds and assets by foreign firms and governments.\"He\\'s taking a longer-term view, laying out a set of conditions under which the current account deficit can improve this year and next.\"'\n",
            "***************\n",
            "yukos' owner menatep group says it will ask rosneft to repay a loan that yugansk had secured on its assets. rosneft already faces a similar 540m repayment demand from foreign banks. the pledged assets are with rosneft, so it will have to pay real money to the creditors to avoid seizure of yugansk assets, said moscow-based us lawyer jamie firestone, who is not connected to the case. but the company has said it intends to take action against menatep to recover some of the tax claims and debts owed by yugansk. yukos claims its downfall was punishment for the political ambitions of its founder mikhail khodorkovsky and has vowed to sue any participant in the sale.n\n",
            "\n",
            "b'Yukos\\' owner Menatep Group says it will ask Rosneft to repay a loan that Yugansk had secured on its assets.State-owned Rosneft bought the Yugansk unit for $9.3bn in a sale forced by Russia to part settle a $27.5bn tax claim against Yukos.The sale went ahead in December and Yugansk was sold to a little-known shell company which in turn was bought by Rosneft.But the company has said it intends to take action against Menatep to recover some of the tax claims and debts owed by Yugansk.\"The pledged assets are with Rosneft, so it will have to pay real money to the creditors to avoid seizure of Yugansk assets,\" said Moscow-based US lawyer Jamie Firestone, who is not connected to the case.'\n",
            "***************\n",
            "our focus remains on reducing controllable costs and debt whilst continuing to invest in our products, mr eddington said. since the 11 september 2001 attacks in the united states, ba has cut 13,000 jobs as part of a major cost-cutting drive. yet aviation analyst mike powell of dresdner kleinwort wasserstein says ba's estimated annual surcharge revenues - xc2xa3160m - will still be way short of its additional fuel costs - a predicted extra xc2xa3250m. it is quite good on the revenue side and it shows the impact of fuel surcharges and a positive cargo development, however, operating margins down and cost impact of fuel are very strong, he said. ba's shares closed up four pence at 274.5 pence.n\n",
            "\n",
            "b'Rod Eddington, BA\\'s chief executive, said the results were \"respectable\" in a third quarter when fuel costs rose by \\xc2\\xa3106m or 47.3%.To help offset the increased price of aviation fuel, BA last year introduced a fuel surcharge for passengers.BA had previously forecast a 2% to 3% rise in full-year revenue.\"It is quite good on the revenue side and it shows the impact of fuel surcharges and a positive cargo development, however, operating margins down and cost impact of fuel are very strong,\" he said.Yet aviation analyst Mike Powell of Dresdner Kleinwort Wasserstein says BA\\'s estimated annual surcharge revenues - \\xc2\\xa3160m - will still be way short of its additional fuel costs - a predicted extra \\xc2\\xa3250m.\"For the year to March 2005, the total revenue outlook is slightly better than previous guidance with a 3% to 3.5% improvement anticipated,\" BA chairman Martin Broughton said.Looking ahead to its full year results to March 2005, BA warned that yields - average revenues per passenger - were expected to decline as it continues to lower prices in the face of competition from low-cost carriers.BA\\'s profits were still better than market expectation of \\xc2\\xa359m, and it expects a rise in full-year revenues.'\n",
            "***************\n"
          ]
        }
      ]
    },
    {
      "cell_type": "markdown",
      "source": [
        "## Kruskal's clustering"
      ],
      "metadata": {
        "id": "85gM2dk4qF1L"
      }
    },
    {
      "cell_type": "code",
      "source": [
        "def kruskal_clustering(data, k):\n",
        "    n = len(data)\n",
        "    distances = np.zeros((n, n))\n",
        "    for i in range(n):\n",
        "        for j in range(i+1, n):\n",
        "            distances[i][j] = np.linalg.norm(data[i] - data[j])   ## computes the Euclidean distance of the vector\n",
        "            distances[j][i] = distances[i][j]\n",
        "    clusters = [{i} for i in range(n)]  ## initializaing clusters\n",
        "    ## function to find the cluster to which a point belongs\n",
        "    def find_cluster(point):\n",
        "        for cluster in clusters:\n",
        "            if point in cluster:\n",
        "                return cluster\n",
        "    ## merge clusters until the desired number of clusters is reached\n",
        "    while len(clusters) > k:\n",
        "        min_distance = float('inf')\n",
        "        merge_clusters = None\n",
        "        for i in range(n):\n",
        "            for j in range(i+1, n):\n",
        "                cluster_i = find_cluster(i)\n",
        "                cluster_j = find_cluster(j)\n",
        "                if cluster_i != cluster_j and distances[i][j] < min_distance:  ## finding the closest pair of clusters\n",
        "                    min_distance = distances[i][j]\n",
        "                    merge_clusters = (cluster_i, cluster_j)\n",
        "        merge_clusters[0].update(merge_clusters[1])   ## merging the closest pair of clusters\n",
        "        clusters.remove(merge_clusters[1])\n",
        "    cluster_labels = np.zeros(n, dtype=int)     ## assigning labels to clusters\n",
        "    for i, cluster in enumerate(clusters):\n",
        "        for point in cluster:\n",
        "            cluster_labels[point] = i + 1\n",
        "    return cluster_labels"
      ],
      "metadata": {
        "id": "Re6B-ZTdqJcc"
      },
      "execution_count": null,
      "outputs": []
    },
    {
      "cell_type": "code",
      "source": [
        "article_clusters_kruskal = []\n",
        "k = 5\n",
        "for i in range(0,len(vectorized_articles)): ## perform the clustering for every article\n",
        "  article_clusters_kruskal.append(kruskal_clustering(vectorized_articles[i],k))"
      ],
      "metadata": {
        "id": "bdvHG0aCH8fF"
      },
      "execution_count": null,
      "outputs": []
    },
    {
      "cell_type": "code",
      "source": [
        "def getCentroids(vectors,clusters): ## this function computes the centroid for every cluster\n",
        "  centroids = dict()\n",
        "  for i in range(0,len(vectors)):\n",
        "    if(clusters[i] not in centroids):\n",
        "      centroids[clusters[i]] = vectors[i]\n",
        "    else:\n",
        "      centroids[clusters[i]] += vectors[i] ## sum up the vectors that belong to every cluster separately\n",
        "\n",
        "  for i in centroids:\n",
        "    centroids[i] /= np.count_nonzero(clusters==i) ## compute the mean of the sum in order to find the centroid vector\n",
        "  return centroids\n",
        "  # return a dictionary of i, centroid\n",
        "\n",
        "def getDistance(centroid, vector):\n",
        "  return np.linalg.norm(centroid - vector)\n",
        "\n",
        "\n",
        "def returnArticleSummaryKruskal(tokenized_sentences,vectorized_sentences,cluster,model):\n",
        "  selected_sentences = dict() ## a dictionary to store (cluster, representative sentence pairs)\n",
        "  summary = dict()\n",
        "  centroids = getCentroids(vectorized_sentences,cluster) ## compute centroids for the given clusters\n",
        "  for i in range(0,len(tokenized_sentences)):\n",
        "    if (cluster[i] not in selected_sentences): ## initialize the selected sentence\n",
        "      selected_sentences[cluster[i]] = vectorized_sentences[i]\n",
        "      summary[cluster[i]] = tokenized_sentences[i]\n",
        "    else:\n",
        "      centroid = centroids[cluster[i]]\n",
        "      if getDistance(centroid,selected_sentences[cluster[i]]) > getDistance(centroid,vectorized_sentences[i]):\n",
        "        ## replace the representative sentence if the current sentence is closer to the centroid\n",
        "        selected_sentences[cluster[i]] = vectorized_sentences[i]\n",
        "        summary[cluster[i]] = tokenized_sentences[i]\n",
        "\n",
        "  return \" \".join(summary.values())"
      ],
      "metadata": {
        "id": "GDL6BywrI5vo"
      },
      "execution_count": null,
      "outputs": []
    },
    {
      "cell_type": "code",
      "source": [
        "predicted_summaries_kruskal = []\n",
        "for i in range(0,len(vectorized_articles)): ## generate summaries using kruskal's algorithm\n",
        "  predicted_summaries_kruskal.append(returnArticleSummaryKruskal(tokenized_articles[i],vectorized_articles[i],article_clusters_kruskal[i],models[i]))\n",
        "  if(i>=0 and i<=3):\n",
        "    print(returnArticleSummaryKruskal(tokenized_articles[i],vectorized_articles[i],article_clusters_kruskal[i],models[i]))\n",
        "    print()\n",
        "    print(summaries[i])\n",
        "    print(\"*\"*15)"
      ],
      "metadata": {
        "colab": {
          "base_uri": "https://localhost:8080/"
        },
        "id": "XesaJxHgPyBa",
        "outputId": "ad4e6aba-b236-4469-f766-6bf2da2e15aa"
      },
      "execution_count": null,
      "outputs": [
        {
          "output_type": "stream",
          "name": "stdout",
          "text": [
            "ad sales boost time warner profitnnquarterly profits at us media giant timewarner jumped 76 to 1.13bn xc2xa3600m for the three months to december, from 639m year-earlier.nnthe firm, which is now one of the biggest investors in google, benefited from sales of high-speed internet connections and higher advert sales. timewarner said fourth quarter sales rose 2 to 11.1bn from 10.9bn. but its own internet business, aol, had has mixed fortunes. it has already offered to pay 300m to settle charges, in a deal that is under review by the sec. the company said it was unable to estimate the amount it needed to set aside for legal reserves, which it previously set at 500m.\n",
            "\n",
            "b\"TimeWarner said fourth quarter sales rose 2% to $11.1bn from $10.9bn.For the full-year, TimeWarner posted a profit of $3.36bn, up 27% from its 2003 performance, while revenues grew 6.4% to $42.09bn.Quarterly profits at US media giant TimeWarner jumped 76% to $1.13bn (\\xc2\\xa3600m) for the three months to December, from $639m year-earlier.However, the company said AOL's underlying profit before exceptional items rose 8% on the back of stronger internet advertising revenues.Its profits were buoyed by one-off gains which offset a profit dip at Warner Bros, and less users for AOL.For 2005, TimeWarner is projecting operating earnings growth of around 5%, and also expects higher revenue and wider profit margins.It lost 464,000 subscribers in the fourth quarter profits were lower than in the preceding three quarters.Time Warner's fourth quarter profits were slightly better than analysts' expectations.\"\n",
            "***************\n",
            "dollar gains on greenspan speechnnthe dollar has hit its highest level against the euro in almost three months after the federal reserve head said the us trade deficit is set to stabilise.nnand alan greenspan highlighted the us government's willingness to curb spending and rising household savings as factors which may help to reduce it. in late trading in new york, the dollar reached 1.2871 against the euro, from 1.2974 on thursday. market concerns about the deficit has hit the greenback in recent months. on friday, federal reserve chairman mr greenspan's speech in london ahead of the meeting of g7 finance ministers sent the dollar higher after it had earlier tumbled on the back of worse-than-expected us jobs data. i think the chairman's taking a much more sanguine view on the current account deficit than he's taken for some time, said robert sinche, head of currency strategy at bank of america in new york.\n",
            "\n",
            "b'The dollar has hit its highest level against the euro in almost three months after the Federal Reserve head said the US trade deficit is set to stabilise.China\\'s currency remains pegged to the dollar and the US currency\\'s sharp falls in recent months have therefore made Chinese export prices highly competitive.Market concerns about the deficit has hit the greenback in recent months.\"I think the chairman\\'s taking a much more sanguine view on the current account deficit than he\\'s taken for some time,\" said Robert Sinche, head of currency strategy at Bank of America in New York.The recent falls have partly been the result of big budget deficits, as well as the US\\'s yawning current account gap, both of which need to be funded by the buying of US bonds and assets by foreign firms and governments.\"He\\'s taking a longer-term view, laying out a set of conditions under which the current account deficit can improve this year and next.\"'\n",
            "***************\n",
            "yukos unit buyer faces loan claimnnthe owners of embattled russian oil giant yukos are to ask the buyer of its former production unit to pay back a 900m xc2xa3479m loan.nnstate-owned rosneft bought the yugansk unit for 9.3bn in a sale forced by russia to part settle a 27.5bn tax claim against yukos. rosneft already faces a similar 540m repayment demand from foreign banks. the pledged assets are with rosneft, so it will have to pay real money to the creditors to avoid seizure of yugansk assets, said moscow-based us lawyer jamie firestone, who is not connected to the case. but the company has said it intends to take action against menatep to recover some of the tax claims and debts owed by yugansk. yukos had filed for bankruptcy protection in a us court in an attempt to prevent the forced sale of its main production arm.\n",
            "\n",
            "b'Yukos\\' owner Menatep Group says it will ask Rosneft to repay a loan that Yugansk had secured on its assets.State-owned Rosneft bought the Yugansk unit for $9.3bn in a sale forced by Russia to part settle a $27.5bn tax claim against Yukos.The sale went ahead in December and Yugansk was sold to a little-known shell company which in turn was bought by Rosneft.But the company has said it intends to take action against Menatep to recover some of the tax claims and debts owed by Yugansk.\"The pledged assets are with Rosneft, so it will have to pay real money to the creditors to avoid seizure of Yugansk assets,\" said Moscow-based US lawyer Jamie Firestone, who is not connected to the case.'\n",
            "***************\n",
            "high fuel prices hit ba's profitsnnbritish airways has blamed high fuel prices for a 40 drop in profits.nnreporting its results for the three months to 31 december 2004, the airline made a pre-tax profit of xc2xa375m 141m compared with xc2xa3125m a year earlier. yet aviation analyst mike powell of dresdner kleinwort wasserstein says ba's estimated annual surcharge revenues - xc2xa3160m - will still be way short of its additional fuel costs - a predicted extra xc2xa3250m. turnover for the quarter was up 4.3 to xc2xa31.97bn, further benefiting from a rise in cargo revenue. aviation analyst nick van den brul of bnp paribas described ba's latest quarterly results as pretty modest. ba's shares closed up four pence at 274.5 pence.n\n",
            "\n",
            "b'Rod Eddington, BA\\'s chief executive, said the results were \"respectable\" in a third quarter when fuel costs rose by \\xc2\\xa3106m or 47.3%.To help offset the increased price of aviation fuel, BA last year introduced a fuel surcharge for passengers.BA had previously forecast a 2% to 3% rise in full-year revenue.\"It is quite good on the revenue side and it shows the impact of fuel surcharges and a positive cargo development, however, operating margins down and cost impact of fuel are very strong,\" he said.Yet aviation analyst Mike Powell of Dresdner Kleinwort Wasserstein says BA\\'s estimated annual surcharge revenues - \\xc2\\xa3160m - will still be way short of its additional fuel costs - a predicted extra \\xc2\\xa3250m.\"For the year to March 2005, the total revenue outlook is slightly better than previous guidance with a 3% to 3.5% improvement anticipated,\" BA chairman Martin Broughton said.Looking ahead to its full year results to March 2005, BA warned that yields - average revenues per passenger - were expected to decline as it continues to lower prices in the face of competition from low-cost carriers.BA\\'s profits were still better than market expectation of \\xc2\\xa359m, and it expects a rise in full-year revenues.'\n",
            "***************\n"
          ]
        }
      ]
    },
    {
      "cell_type": "markdown",
      "source": [
        "### Evaluating the summaries using ROUGE scores"
      ],
      "metadata": {
        "id": "5H3MV_Hvp5gE"
      }
    },
    {
      "cell_type": "code",
      "source": [
        "%%capture\n",
        "!pip install evaluate\n",
        "!pip install rouge_score"
      ],
      "metadata": {
        "id": "VQPbFDRN9mrH"
      },
      "execution_count": null,
      "outputs": []
    },
    {
      "cell_type": "code",
      "source": [
        "import evaluate"
      ],
      "metadata": {
        "id": "8EuGBM8Y9tfm"
      },
      "execution_count": null,
      "outputs": []
    },
    {
      "cell_type": "code",
      "source": [
        "rouge = evaluate.load('rouge')"
      ],
      "metadata": {
        "id": "CIBRP9OErkX4",
        "colab": {
          "base_uri": "https://localhost:8080/",
          "height": 49,
          "referenced_widgets": [
            "79a03c0aa4e247168c2110a1ec0e331b",
            "e7e32524528b49d691f5ba33637ebd7e",
            "c480fb06b55f4b81a46152cb81d7cf3a",
            "ddab4797c79648e190899596568fc461",
            "b796317ac0e7485c91f3a487ad815923",
            "c2332fde730e459ba984d33e55547ebb",
            "ece09c057f5d46d5a4d928956ff5e3e2",
            "9ec0c69a63a24113be824a1045b9ee28",
            "98f1c1e7f7474ad383b96b60a873bac6",
            "6881ad6cd3c04b3d8947d3bc58c2bd69",
            "c6486d8c83d44c29beb0dec41906bb21"
          ]
        },
        "outputId": "d1634659-fefc-4e2f-9aa1-191672b677e4"
      },
      "execution_count": null,
      "outputs": [
        {
          "output_type": "display_data",
          "data": {
            "text/plain": [
              "Downloading builder script:   0%|          | 0.00/6.27k [00:00<?, ?B/s]"
            ],
            "application/vnd.jupyter.widget-view+json": {
              "version_major": 2,
              "version_minor": 0,
              "model_id": "79a03c0aa4e247168c2110a1ec0e331b"
            }
          },
          "metadata": {}
        }
      ]
    },
    {
      "cell_type": "code",
      "source": [
        "results = []\n",
        "\n",
        "## compute accuracy using generated and original (ground truth) summaries for every domain of articles\n",
        "for i in range(0,41,10):\n",
        "  results.append(rouge.compute(predictions=predicted_summaries_kmeans[i:i+10],references=tokenized_summaries[i:i+10]))\n",
        "\n",
        "\n",
        "\n",
        "results.append(rouge.compute(predictions=predicted_summaries_kmeans[0:51],references=tokenized_summaries[0:51]))"
      ],
      "metadata": {
        "id": "p1xPJCG38oKl"
      },
      "execution_count": null,
      "outputs": []
    },
    {
      "cell_type": "code",
      "source": [
        "for i in range(len(results)-1):\n",
        "  print(directories[i])\n",
        "  print(results[i])\n",
        "\n",
        "print(\"overall scores\")\n",
        "print(results[len(results)-1])"
      ],
      "metadata": {
        "colab": {
          "base_uri": "https://localhost:8080/"
        },
        "id": "YFZvvPyr9q2C",
        "outputId": "945996e1-cae7-4660-a945-1dc704b90d0e"
      },
      "execution_count": null,
      "outputs": [
        {
          "output_type": "stream",
          "name": "stdout",
          "text": [
            "business\n",
            "{'rouge1': 0.5973011100111805, 'rouge2': 0.4576040247796953, 'rougeL': 0.36161019098660085, 'rougeLsum': 0.36334769758811214}\n",
            "entertainment\n",
            "{'rouge1': 0.5350624190687989, 'rouge2': 0.421356959322747, 'rougeL': 0.3584974018406957, 'rougeLsum': 0.35626305488716087}\n",
            "politics\n",
            "{'rouge1': 0.5283269131773147, 'rouge2': 0.41366273400852416, 'rougeL': 0.33446508908391187, 'rougeLsum': 0.33486335660075317}\n",
            "sport\n",
            "{'rouge1': 0.5524877154843237, 'rouge2': 0.4310661667933581, 'rougeL': 0.355336767696107, 'rougeLsum': 0.35120048064491516}\n",
            "tech\n",
            "{'rouge1': 0.4393339434333378, 'rouge2': 0.2938058032610358, 'rougeL': 0.2539803100706287, 'rougeLsum': 0.2529633609180863}\n",
            "average scores\n",
            "{'rouge1': 0.5405144333648471, 'rouge2': 0.417270098546992, 'rougeL': 0.34078965352688173, 'rougeLsum': 0.3410514969978006}\n"
          ]
        }
      ]
    },
    {
      "cell_type": "code",
      "source": [
        "results = []\n",
        "## compute accuracy using generated and original (ground truth) summaries for every domain of articles\n",
        "for i in range(0,41,10):\n",
        "  results.append(rouge.compute(predictions=predicted_summaries_kruskal[i:i+10],references=tokenized_summaries[i:i+10]))\n",
        "\n",
        "\n",
        "results.append(rouge.compute(predictions=predicted_summaries_kruskal[0:51],references=tokenized_summaries[0:51]))"
      ],
      "metadata": {
        "id": "pzjNG68mPz7D"
      },
      "execution_count": null,
      "outputs": []
    },
    {
      "cell_type": "code",
      "source": [
        "for i in range(len(results)-1):\n",
        "  print(directories[i])\n",
        "  print(results[i])\n",
        "\n",
        "print(\"overall scores\")\n",
        "print(results[len(results)-1])"
      ],
      "metadata": {
        "colab": {
          "base_uri": "https://localhost:8080/"
        },
        "id": "wspEEl96Qk2-",
        "outputId": "4eae4008-7509-4799-c788-66ae94941d7c"
      },
      "execution_count": null,
      "outputs": [
        {
          "output_type": "stream",
          "name": "stdout",
          "text": [
            "business\n",
            "{'rouge1': 0.591787897896163, 'rouge2': 0.45305087372383024, 'rougeL': 0.39161624113296967, 'rougeLsum': 0.38994501770525747}\n",
            "entertainment\n",
            "{'rouge1': 0.5736662725150339, 'rouge2': 0.4474359452877746, 'rougeL': 0.37741184567291997, 'rougeLsum': 0.37727573173095474}\n",
            "politics\n",
            "{'rouge1': 0.5123715313246651, 'rouge2': 0.3868661756347964, 'rougeL': 0.3158035781682046, 'rougeLsum': 0.31678031778012794}\n",
            "sport\n",
            "{'rouge1': 0.5946537698335139, 'rouge2': 0.506178513078076, 'rougeL': 0.390261902591013, 'rougeLsum': 0.3889841960771955}\n",
            "tech\n",
            "{'rouge1': 0.5038687525496036, 'rouge2': 0.35350513329176647, 'rougeL': 0.33201823897476074, 'rougeLsum': 0.3313197656490904}\n",
            "average scores\n",
            "{'rouge1': 0.561746848975751, 'rouge2': 0.4354016146857963, 'rougeL': 0.36476471598375265, 'rougeLsum': 0.3644275734044682}\n"
          ]
        }
      ]
    },
    {
      "cell_type": "markdown",
      "source": [
        "### Visualizing the clusters"
      ],
      "metadata": {
        "id": "NyHRqLlOkJjs"
      }
    },
    {
      "cell_type": "code",
      "source": [
        "from sklearn.decomposition import PCA\n",
        "\n",
        "## Use PCA in order to reduce the 50-dimensional vectors to 2-dimensional vectors in order to visualize them\n",
        "\n",
        "def visualize_clusters(vectors):\n",
        "  vectors = np.array(vectors).T\n",
        "  pca = PCA(n_components=2)\n",
        "  pca.fit_transform(vectors)\n",
        "  return pca"
      ],
      "metadata": {
        "id": "HrbQ8ar_Qlif"
      },
      "execution_count": null,
      "outputs": []
    },
    {
      "cell_type": "code",
      "source": [
        "model = visualize_clusters(vectorized_articles[1]) ## apply PCA on a random article"
      ],
      "metadata": {
        "id": "IbZwdUeDlkVW"
      },
      "execution_count": null,
      "outputs": []
    },
    {
      "cell_type": "code",
      "source": [
        "import seaborn as sns\n",
        "\n",
        "## plot a scatter plot for k-means clustering\n",
        "sns.scatterplot(x = model.components_[0],y =model.components_[1],hue=article_clusters_kmeans[1],palette=\"tab10\").set_title(\"K-means algorithm clusters\")"
      ],
      "metadata": {
        "colab": {
          "base_uri": "https://localhost:8080/",
          "height": 469
        },
        "id": "jT_6FVHwltpk",
        "outputId": "ad78e8e0-78ac-4af1-9efc-5fd262a01eb8"
      },
      "execution_count": null,
      "outputs": [
        {
          "output_type": "execute_result",
          "data": {
            "text/plain": [
              "Text(0.5, 1.0, 'K-means algorithm clusters')"
            ]
          },
          "metadata": {},
          "execution_count": 39
        },
        {
          "output_type": "display_data",
          "data": {
            "text/plain": [
              "<Figure size 640x480 with 1 Axes>"
            ],
            "image/png": "[encoded data removed]"
          },
          "metadata": {}
        }
      ]
    },
    {
      "cell_type": "code",
      "source": [
        "## plot a scatter plot for kruskal's clustering\n",
        "sns.scatterplot(x = model.components_[0],y =model.components_[1],hue=article_clusters_kruskal[1],palette=\"tab10\").set_title(\"Kruskal's algorithm clusters\")"
      ],
      "metadata": {
        "colab": {
          "base_uri": "https://localhost:8080/",
          "height": 469
        },
        "id": "GChJeiAFMtJR",
        "outputId": "d6c646c7-fc3e-48cb-c730-6bf17e8d2f74"
      },
      "execution_count": null,
      "outputs": [
        {
          "output_type": "execute_result",
          "data": {
            "text/plain": [
              "Text(0.5, 1.0, \"Kruskal's algorithm clusters\")"
            ]
          },
          "metadata": {},
          "execution_count": 40
        },
        {
          "output_type": "display_data",
          "data": {
            "text/plain": [
              "<Figure size 640x480 with 1 Axes>"
            ],
            "image/png": "[encoded data removed]"
          },
          "metadata": {}
        }
      ]
    },
    {
      "cell_type": "code",
      "source": [],
      "metadata": {
        "id": "rcAehGv5ofXh"
      },
      "execution_count": null,
      "outputs": []
    }
  ]
}